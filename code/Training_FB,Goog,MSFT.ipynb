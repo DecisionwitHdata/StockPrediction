{
  "cells": [
    {
      "cell_type": "code",
      "execution_count": 28,
      "metadata": {
        "id": "f6jwESx5oDXD"
      },
      "outputs": [],
      "source": [
        "import pandas as pd\n",
        "import torch\n",
        "from torch.utils.data import Dataset, DataLoader\n",
        "import torch.nn as nn\n",
        "import torch.optim as optim\n",
        "from sklearn.model_selection import train_test_split\n",
        "from sklearn.preprocessing import StandardScaler\n",
        "import matplotlib.pyplot as plt\n",
        "import numpy as np\n",
        "from sklearn.preprocessing import MinMaxScaler\n",
        "from sklearn.metrics import accuracy_score, matthews_corrcoef\n",
        "from torch.utils.data import DataLoader, TensorDataset\n",
        "import pandas as pd"
      ]
    },
    {
      "cell_type": "markdown",
      "metadata": {
        "id": "1h3zC6ChfhEV"
      },
      "source": [
        "### Call Data (Facebook, Google, Microsoft)"
      ]
    },
    {
      "cell_type": "code",
      "execution_count": 43,
      "metadata": {
        "colab": {
          "base_uri": "https://localhost:8080/",
          "height": 423
        },
        "id": "IfTMCi5P27wU",
        "outputId": "a9fd62e3-ecbd-4e2b-8c29-dd29e06d3515"
      },
      "outputs": [
        {
          "data": {
            "text/html": [
              "<div>\n",
              "<style scoped>\n",
              "    .dataframe tbody tr th:only-of-type {\n",
              "        vertical-align: middle;\n",
              "    }\n",
              "\n",
              "    .dataframe tbody tr th {\n",
              "        vertical-align: top;\n",
              "    }\n",
              "\n",
              "    .dataframe thead th {\n",
              "        text-align: right;\n",
              "    }\n",
              "</style>\n",
              "<table border=\"1\" class=\"dataframe\">\n",
              "  <thead>\n",
              "    <tr style=\"text-align: right;\">\n",
              "      <th></th>\n",
              "      <th>Date</th>\n",
              "      <th>Open</th>\n",
              "      <th>High</th>\n",
              "      <th>Low</th>\n",
              "      <th>Close</th>\n",
              "      <th>Adj Close</th>\n",
              "      <th>Volume</th>\n",
              "      <th>Stock</th>\n",
              "      <th>movement</th>\n",
              "      <th>Rate</th>\n",
              "    </tr>\n",
              "  </thead>\n",
              "  <tbody>\n",
              "    <tr>\n",
              "      <th>9780</th>\n",
              "      <td>2014-01-06</td>\n",
              "      <td>-0.100259</td>\n",
              "      <td>-0.100156</td>\n",
              "      <td>-0.100244</td>\n",
              "      <td>-0.100122</td>\n",
              "      <td>-0.099878</td>\n",
              "      <td>3.282742</td>\n",
              "      <td>FB</td>\n",
              "      <td>1</td>\n",
              "      <td>0.048387</td>\n",
              "    </tr>\n",
              "    <tr>\n",
              "      <th>9781</th>\n",
              "      <td>2014-01-07</td>\n",
              "      <td>-0.100094</td>\n",
              "      <td>-0.100092</td>\n",
              "      <td>-0.100084</td>\n",
              "      <td>-0.100086</td>\n",
              "      <td>-0.099841</td>\n",
              "      <td>3.747399</td>\n",
              "      <td>FB</td>\n",
              "      <td>1</td>\n",
              "      <td>0.012587</td>\n",
              "    </tr>\n",
              "    <tr>\n",
              "      <th>9782</th>\n",
              "      <td>2014-01-08</td>\n",
              "      <td>-0.100099</td>\n",
              "      <td>-0.100099</td>\n",
              "      <td>-0.100083</td>\n",
              "      <td>-0.100070</td>\n",
              "      <td>-0.099826</td>\n",
              "      <td>2.605890</td>\n",
              "      <td>FB</td>\n",
              "      <td>1</td>\n",
              "      <td>0.005352</td>\n",
              "    </tr>\n",
              "    <tr>\n",
              "      <th>9783</th>\n",
              "      <td>2014-01-09</td>\n",
              "      <td>-0.100046</td>\n",
              "      <td>-0.100071</td>\n",
              "      <td>-0.100113</td>\n",
              "      <td>-0.100121</td>\n",
              "      <td>-0.099877</td>\n",
              "      <td>4.584186</td>\n",
              "      <td>FB</td>\n",
              "      <td>0</td>\n",
              "      <td>-0.017345</td>\n",
              "    </tr>\n",
              "    <tr>\n",
              "      <th>9784</th>\n",
              "      <td>2014-01-10</td>\n",
              "      <td>-0.100123</td>\n",
              "      <td>-0.100104</td>\n",
              "      <td>-0.100092</td>\n",
              "      <td>-0.100085</td>\n",
              "      <td>-0.099840</td>\n",
              "      <td>1.814318</td>\n",
              "      <td>FB</td>\n",
              "      <td>1</td>\n",
              "      <td>0.012583</td>\n",
              "    </tr>\n",
              "  </tbody>\n",
              "</table>\n",
              "</div>"
            ],
            "text/plain": [
              "            Date      Open      High       Low     Close  Adj Close    Volume  \\\n",
              "9780  2014-01-06 -0.100259 -0.100156 -0.100244 -0.100122  -0.099878  3.282742   \n",
              "9781  2014-01-07 -0.100094 -0.100092 -0.100084 -0.100086  -0.099841  3.747399   \n",
              "9782  2014-01-08 -0.100099 -0.100099 -0.100083 -0.100070  -0.099826  2.605890   \n",
              "9783  2014-01-09 -0.100046 -0.100071 -0.100113 -0.100121  -0.099877  4.584186   \n",
              "9784  2014-01-10 -0.100123 -0.100104 -0.100092 -0.100085  -0.099840  1.814318   \n",
              "\n",
              "     Stock  movement      Rate  \n",
              "9780    FB         1  0.048387  \n",
              "9781    FB         1  0.012587  \n",
              "9782    FB         1  0.005352  \n",
              "9783    FB         0 -0.017345  \n",
              "9784    FB         1  0.012583  "
            ]
          },
          "execution_count": 43,
          "metadata": {},
          "output_type": "execute_result"
        }
      ],
      "source": [
        "filtered = pd.read_csv(r'C:\\Users\\dhjrz\\nlp\\ionlab\\filtered_stock.csv')\n",
        "selected_stocks = ['FB', 'GOOG', 'MSFT']\n",
        "df = filtered[filtered['Stock'].isin(selected_stocks)]\n",
        "df.head()"
      ]
    },
    {
      "cell_type": "code",
      "execution_count": 44,
      "metadata": {
        "colab": {
          "base_uri": "https://localhost:8080/"
        },
        "id": "pA6Ji2gSWGUn",
        "outputId": "df17a924-7d82-404c-fb44-a66df83ca0a5"
      },
      "outputs": [
        {
          "name": "stderr",
          "output_type": "stream",
          "text": [
            "C:\\Users\\dhjrz\\AppData\\Local\\Temp\\ipykernel_46268\\1820078373.py:2: SettingWithCopyWarning: \n",
            "A value is trying to be set on a copy of a slice from a DataFrame\n",
            "\n",
            "See the caveats in the documentation: https://pandas.pydata.org/pandas-docs/stable/user_guide/indexing.html#returning-a-view-versus-a-copy\n",
            "  df.drop(columns='Prev Adj', errors='ignore', inplace=True)\n",
            "C:\\Users\\dhjrz\\AppData\\Local\\Temp\\ipykernel_46268\\1820078373.py:4: SettingWithCopyWarning: \n",
            "A value is trying to be set on a copy of a slice from a DataFrame.\n",
            "Try using .loc[row_indexer,col_indexer] = value instead\n",
            "\n",
            "See the caveats in the documentation: https://pandas.pydata.org/pandas-docs/stable/user_guide/indexing.html#returning-a-view-versus-a-copy\n",
            "  df[['Open', 'High', 'Low', 'Volume', 'Adj Close','Close']] = scaler.fit_transform(df[['Open', 'High', 'Low', 'Volume', 'Adj Close','Close']])\n"
          ]
        }
      ],
      "source": [
        "# 'Date' 열을 datetime으로 변환하고 인덱스로 설정\n",
        "df.drop(columns='Prev Adj', errors='ignore', inplace=True)\n",
        "scaler = MinMaxScaler()\n",
        "df[['Open', 'High', 'Low', 'Volume', 'Adj Close','Close']] = scaler.fit_transform(df[['Open', 'High', 'Low', 'Volume', 'Adj Close','Close']])"
      ]
    },
    {
      "cell_type": "code",
      "execution_count": 45,
      "metadata": {
        "colab": {
          "base_uri": "https://localhost:8080/"
        },
        "id": "pbapUTNd0iaB",
        "outputId": "5a84d048-6d14-430c-cdcc-71fb6797bafd"
      },
      "outputs": [
        {
          "data": {
            "text/plain": [
              "544"
            ]
          },
          "execution_count": 45,
          "metadata": {},
          "output_type": "execute_result"
        }
      ],
      "source": [
        "len(df[df['movement']==1])"
      ]
    },
    {
      "cell_type": "code",
      "execution_count": 46,
      "metadata": {
        "colab": {
          "base_uri": "https://localhost:8080/"
        },
        "id": "vJlDK2ovDRTp",
        "outputId": "8e414eae-3ebe-498a-9e50-d264a243432f"
      },
      "outputs": [
        {
          "data": {
            "text/plain": [
              "<bound method NDFrame.describe of              Date      Open      High       Low     Close  Adj Close  \\\n",
              "9780   2014-01-06  0.026541  0.028733  0.026520  0.029961   0.034215   \n",
              "9781   2014-01-07  0.030962  0.030466  0.030849  0.030932   0.035181   \n",
              "9782   2014-01-08  0.030828  0.030278  0.030863  0.031350   0.035597   \n",
              "9783   2014-01-09  0.032243  0.031017  0.030071  0.029988   0.034241   \n",
              "9784   2014-01-10  0.030194  0.030130  0.030631  0.030959   0.035208   \n",
              "...           ...       ...       ...       ...       ...        ...   \n",
              "16057  2015-12-22  0.027309  0.026341  0.027135  0.027467   0.028522   \n",
              "16058  2015-12-23  0.028266  0.026878  0.028418  0.028101   0.029126   \n",
              "16059  2015-12-28  0.027795  0.026972  0.027790  0.028276   0.029293   \n",
              "16060  2015-12-29  0.029062  0.028182  0.029265  0.029085   0.030064   \n",
              "16061  2015-12-31  0.028725  0.027295  0.028391  0.027642   0.028689   \n",
              "\n",
              "         Volume Stock  movement      Rate  \n",
              "9780   0.339949    FB         1  0.048387  \n",
              "9781   0.381205    FB         1  0.012587  \n",
              "9782   0.279854    FB         1  0.005352  \n",
              "9783   0.455500    FB         0 -0.017345  \n",
              "9784   0.209573    FB         1  0.012583  \n",
              "...         ...   ...       ...       ...  \n",
              "16057  0.139814  MSFT         1  0.009484  \n",
              "16058  0.134666  MSFT         1  0.008491  \n",
              "16059  0.110858  MSFT         1  0.005030  \n",
              "16060  0.136896  MSFT         1  0.010724  \n",
              "16061  0.130962  MSFT         0 -0.014740  \n",
              "\n",
              "[1009 rows x 10 columns]>"
            ]
          },
          "execution_count": 46,
          "metadata": {},
          "output_type": "execute_result"
        }
      ],
      "source": [
        "df.describe"
      ]
    },
    {
      "cell_type": "markdown",
      "metadata": {
        "id": "aWTng3KPXxqP"
      },
      "source": [
        "#여기부터"
      ]
    },
    {
      "cell_type": "code",
      "execution_count": 47,
      "metadata": {
        "id": "ToW3gBbtWJlf"
      },
      "outputs": [],
      "source": [
        "def create_sequences(df, window_size):\n",
        "    sequences = []\n",
        "    labels = []\n",
        "\n",
        "    stocks = df['Stock'].unique()\n",
        "\n",
        "    for stock in stocks:\n",
        "        stock_data = df[df['Stock'] == stock].drop(columns=['Stock','Date'])\n",
        "        stock_data = stock_data.sort_index()\n",
        "        stock_data = stock_data.to_numpy()\n",
        "\n",
        "        for i in range(len(stock_data) - window_size):\n",
        "            seq = stock_data[i:i + window_size, :-2]  # 모든 열을 포함하되 Movement 열은 제외\n",
        "            movement = stock_data[i + window_size, -2]  # Movement 열을 레이블로 사용\n",
        "            sequences.append(seq)\n",
        "            labels.append(movement)\n",
        "\n",
        "    return np.array(sequences), np.array(labels)\n",
        "\n",
        "# 시퀀스 생성\n",
        "window_size = 5\n",
        "# sequences, labels = create_sequences(combined_df, window_size)"
      ]
    },
    {
      "cell_type": "code",
      "execution_count": 48,
      "metadata": {
        "id": "V9L408gsWQ4r"
      },
      "outputs": [],
      "source": [
        "train_df = df[(df['Date']>='2014-01-01') & (df['Date']<='2015-08-01')]\n",
        "valid_df = df[(df['Date']>='2014-08-01') & (df['Date']<='2015-10-01')]\n",
        "test_df = df[(df['Date']>='2015-10-01') & (df['Date']<='2016-01-01')]\n",
        "\n",
        "# 각각의 데이터셋에 대해 시퀀스 생성\n",
        "train_sequences, train_labels = create_sequences(train_df, window_size)\n",
        "val_sequences, val_labels = create_sequences(valid_df, window_size)\n",
        "test_sequences, test_labels = create_sequences(test_df, window_size)"
      ]
    },
    {
      "cell_type": "code",
      "execution_count": 49,
      "metadata": {
        "colab": {
          "base_uri": "https://localhost:8080/"
        },
        "id": "9YlEz9euWaBs",
        "outputId": "233ae4f9-1a78-49eb-b0d0-70d1550cd253"
      },
      "outputs": [
        {
          "name": "stdout",
          "output_type": "stream",
          "text": [
            "Training sequences shape: (767, 5, 6)\n",
            "Validation sequences shape: (564, 5, 6)\n",
            "Test sequences shape: (120, 5, 6)\n"
          ]
        }
      ],
      "source": [
        "print(f\"Training sequences shape: {train_sequences.shape}\")\n",
        "print(f\"Validation sequences shape: {val_sequences.shape}\")\n",
        "print(f\"Test sequences shape: {test_sequences.shape}\")"
      ]
    },
    {
      "cell_type": "code",
      "execution_count": 50,
      "metadata": {
        "colab": {
          "base_uri": "https://localhost:8080/"
        },
        "id": "Pduw1yIlmrs_",
        "outputId": "e9c6d3ca-ddb4-47fb-dbfe-4ed6f4fa3252"
      },
      "outputs": [
        {
          "data": {
            "text/plain": [
              "array([0., 1., 0., 0., 1., 0., 0., 0., 0., 1., 0., 1., 1., 0., 1., 0., 1.,\n",
              "       0., 1., 0., 1., 1., 1., 0., 1., 0., 0., 0., 0., 1., 1., 0., 0., 1.,\n",
              "       0., 1., 0., 0., 1., 1., 0., 0., 0., 1., 0., 1., 0., 1., 0., 0., 1.,\n",
              "       1., 0., 0., 1., 1., 0., 1., 1., 0., 0., 0., 0., 1., 1., 1., 0., 1.,\n",
              "       0., 0., 0., 1., 1., 0., 0., 1., 0., 1., 1., 1., 1., 0., 1., 0., 1.,\n",
              "       1., 0., 1., 0., 1., 1., 1., 1., 1., 0., 0., 0., 1., 1., 1., 0., 1.,\n",
              "       0., 1., 1., 1., 1., 0., 1., 0., 1., 0., 1., 1., 0., 1., 1., 0., 1.,\n",
              "       1., 0., 1., 1., 0., 0., 1., 1., 0., 1., 1., 0., 1., 1., 0., 0., 1.,\n",
              "       1., 1., 0., 1., 0., 1., 0., 1., 0., 1., 0., 0., 1., 0., 1., 1., 1.,\n",
              "       1., 1., 1., 0., 0., 1., 0., 1., 0., 1., 0., 0., 1., 0., 0., 1., 1.,\n",
              "       0., 0., 1., 0., 1., 0., 0., 1., 1., 1., 1., 0., 0., 0., 0., 1., 0.,\n",
              "       0., 1., 0., 0., 0., 1., 1., 1., 1., 0., 1., 1., 0., 0., 1., 0., 1.,\n",
              "       1., 0., 1., 1., 1., 0., 1., 1., 0., 1., 1., 0., 0., 0., 1., 0., 1.,\n",
              "       1., 1., 1., 1., 1., 0., 0., 0., 1., 1., 1., 0., 0., 1., 1., 1., 0.,\n",
              "       0., 0., 0., 0., 1., 0., 0., 1., 1., 0., 1., 0., 1., 0., 1., 1., 0.,\n",
              "       1., 0., 1., 1., 1., 1., 1., 0., 0., 1., 0., 1., 1., 1., 1., 1., 0.,\n",
              "       0., 1., 0., 1., 1., 0., 0., 0., 1., 1., 1., 0., 0., 1., 0., 1., 1.,\n",
              "       0., 1., 1., 1., 1., 1., 0., 1., 1., 0., 1., 0., 1., 0., 0., 1., 1.,\n",
              "       0., 0., 0., 0., 0., 1., 0., 0., 1., 1., 0., 0., 1., 1., 0., 0., 1.,\n",
              "       0., 0., 1., 1., 0., 0., 0., 1., 1., 1., 0., 0., 1., 1., 1., 1., 1.,\n",
              "       0., 0., 0., 1., 1., 0., 0., 1., 1., 1., 1., 0., 1., 0., 1., 1., 0.,\n",
              "       1., 0., 1., 0., 0., 0., 0., 1., 0., 1., 0., 1., 1., 1., 0., 1., 1.,\n",
              "       1., 1., 0., 0., 1., 1., 1., 1., 0., 0., 1., 0., 0., 1., 0., 1., 0.,\n",
              "       0., 0., 1., 0., 0., 0., 1., 1., 1., 1., 0., 1., 1., 0., 0., 0., 1.,\n",
              "       1., 0., 0., 1., 0., 1., 0., 0., 0., 0., 1., 1., 1., 1., 1., 1., 0.,\n",
              "       0., 0., 0., 0., 0., 1., 1., 1., 1., 1., 1., 0., 0., 0., 1., 0., 0.,\n",
              "       1., 1., 0., 1., 1., 1., 0., 0., 1., 0., 0., 1., 1., 1., 1., 1., 0.,\n",
              "       0., 0., 1., 0., 1., 0., 1., 1., 0., 0., 0., 1., 0., 0., 0., 1., 0.,\n",
              "       0., 1., 1., 1., 1., 0., 0., 0., 1., 0., 0., 1., 1., 0., 1., 0., 1.,\n",
              "       1., 0., 1., 0., 1., 0., 0., 0., 1., 0., 1., 0., 0., 0., 1., 1., 1.,\n",
              "       1., 1., 1., 0., 0., 0., 1., 1., 0., 0., 1., 0., 1., 1., 0., 0., 0.,\n",
              "       1., 0., 1., 1., 1., 1., 0., 0., 1., 1., 1., 1., 1., 1., 1., 0., 1.,\n",
              "       1., 0., 1., 0., 0., 1., 1., 0., 1., 1., 0., 1., 1., 0., 0., 1., 1.,\n",
              "       1., 0., 0., 1., 0., 1., 1., 0., 0., 1., 0., 0., 0., 0., 0., 1., 1.,\n",
              "       1., 1., 0., 1., 1., 0., 1., 1., 0., 1., 1., 0., 0., 1., 1., 1., 0.,\n",
              "       1., 0., 1., 0., 1., 1., 1., 1., 0., 0., 0., 0., 0., 1., 0., 0., 1.,\n",
              "       1., 1., 1., 1., 1., 0., 1., 1., 0., 1., 1., 1., 1., 0., 0., 1., 1.,\n",
              "       0., 0., 1., 0., 1., 0., 1., 0., 1., 0., 0., 0., 0., 0., 1., 1., 1.,\n",
              "       0., 1., 1., 1., 0., 1., 1., 1., 1., 1., 0., 0., 1., 0., 0., 1., 1.,\n",
              "       0., 1., 0., 0., 0., 1., 0., 0., 1., 1., 1., 1., 0., 0., 0., 0., 1.,\n",
              "       0., 0., 1., 1., 0., 0., 0., 0., 1., 0., 1., 0., 0., 1., 0., 1., 1.,\n",
              "       1., 1., 1., 1., 1., 1., 1., 0., 0., 1., 0., 0., 1., 1., 1., 0., 0.,\n",
              "       0., 0., 0., 1., 1., 1., 0., 1., 0., 1., 1., 1., 1., 0., 0., 0., 0.,\n",
              "       1., 1., 0., 1., 1., 0., 0., 0., 0., 1., 0., 1., 0., 0., 0., 1., 0.,\n",
              "       0., 1., 1., 0., 0., 0., 0., 0., 1., 1., 1., 1., 1., 1., 0., 1., 0.,\n",
              "       1., 1.])"
            ]
          },
          "execution_count": 50,
          "metadata": {},
          "output_type": "execute_result"
        }
      ],
      "source": [
        "train_labels"
      ]
    },
    {
      "cell_type": "code",
      "execution_count": 51,
      "metadata": {
        "id": "bc5SJ3vWUetQ"
      },
      "outputs": [],
      "source": [
        "import torch\n",
        "from torch.utils.data import TensorDataset, DataLoader\n",
        "\n",
        "# NumPy 배열을 PyTorch 텐서로 변환\n",
        "train_sequences_tensor = torch.tensor(train_sequences, dtype=torch.float32)\n",
        "train_labels_tensor = torch.tensor(train_labels, dtype=torch.long)\n",
        "\n",
        "val_sequences_tensor = torch.tensor(val_sequences, dtype=torch.float32)\n",
        "val_labels_tensor = torch.tensor(val_labels, dtype=torch.long)\n",
        "\n",
        "test_sequences_tensor = torch.tensor(test_sequences, dtype=torch.float32)\n",
        "test_labels_tensor = torch.tensor(test_labels, dtype=torch.long)\n",
        "\n",
        "# DataLoader 생성\n",
        "batch_size = 32\n",
        "\n",
        "train_dataset = TensorDataset(train_sequences_tensor, train_labels_tensor)\n",
        "val_dataset = TensorDataset(val_sequences_tensor, val_labels_tensor)\n",
        "test_dataset = TensorDataset(test_sequences_tensor, test_labels_tensor)\n",
        "\n",
        "train_loader = DataLoader(train_dataset, batch_size=batch_size, shuffle=True)\n",
        "val_loader = DataLoader(val_dataset, batch_size=batch_size, shuffle=True)\n",
        "test_loader = DataLoader(test_dataset, batch_size=batch_size, shuffle=True)\n"
      ]
    },
    {
      "cell_type": "markdown",
      "metadata": {
        "id": "IQl_MONffnJ8"
      },
      "source": [
        "### RNN"
      ]
    },
    {
      "cell_type": "code",
      "execution_count": 52,
      "metadata": {
        "id": "sCpv3NWknBve"
      },
      "outputs": [],
      "source": [
        "import torch.nn as nn\n",
        "\n",
        "class RNNModel(nn.Module):\n",
        "    # def __init__(self, input_size, hidden_size, output_size, num_layers=1, dropout = 0.3):\n",
        "    #     super(RNNModel, self).__init__()\n",
        "    #     self.rnn = nn.RNN(input_size=input_size, hidden_size=hidden_size, num_layers=num_layers, batch_first=True)\n",
        "    #     self.fc = nn.Linear(hidden_size, output_size)\n",
        "    #     # self.softmax = nn.Softmax(dim=1)  # 예측 결과를 확률로 변환\n",
        "    #     self.dropout = nn.Dropout(p=dropout)\n",
        "    def __init__(self, input_size, hidden_size, output_size, num_layers, dropout=0.3):\n",
        "        super(RNNModel, self).__init__()\n",
        "        self.hidden_size = hidden_size\n",
        "        self.num_layers = num_layers\n",
        "        self.rnn = nn.RNN(input_size, hidden_size, batch_first=True)\n",
        "        self.fc = nn.Sequential(nn.Linear(hidden_size, output_size), nn.Sigmoid())\n",
        "        self.dropout = nn.Dropout(p=dropout)\n",
        "\n",
        "    def forward(self, x):\n",
        "        h0 = torch.zeros(1, x.size(0), hidden_size).to(x.device)  # 초기 은닉 상태\n",
        "        out, _ = self.rnn(x, h0)  # RNN 레이어 통과\n",
        "        out = self.dropout(out[:, -1, :])\n",
        "        out = self.fc(out)  # 마지막 타임스텝의 출력을 선형 레이어에 통과\n",
        "        # out = self.softmax(out)   \n",
        "        return out\n",
        "\n",
        "num_layers = 1\n",
        "input_size = 6\n",
        "hidden_size = 16\n",
        "output_size = 2  # 1 또는 0\n",
        "\n",
        "model = RNNModel(input_size, hidden_size, output_size, num_layers)"
      ]
    },
    {
      "cell_type": "code",
      "execution_count": 53,
      "metadata": {
        "colab": {
          "base_uri": "https://localhost:8080/"
        },
        "id": "Ax6qxM0on6YK",
        "outputId": "b8012103-9111-4056-bbe8-befc7a93d26d"
      },
      "outputs": [
        {
          "name": "stdout",
          "output_type": "stream",
          "text": [
            "Epoch [5/50], Loss: 0.6963\n",
            "Epoch [10/50], Loss: 0.6802\n",
            "Epoch [15/50], Loss: 0.7119\n",
            "Epoch [20/50], Loss: 0.6798\n",
            "Epoch [25/50], Loss: 0.7035\n",
            "Epoch [30/50], Loss: 0.6837\n",
            "Epoch [35/50], Loss: 0.7191\n",
            "Epoch [40/50], Loss: 0.6863\n",
            "Epoch [45/50], Loss: 0.7033\n",
            "Epoch [50/50], Loss: 0.6981\n",
            "Training complete\n"
          ]
        }
      ],
      "source": [
        "# 내부적으로 소프트맥스 적용하여 로짓-> 확률 변환, 확률과 실제 레이블 간 차이 계산\n",
        "criterion = nn.CrossEntropyLoss()\n",
        "optimizer = optim.Adam(model.parameters(), lr=0.001)\n",
        "\n",
        "num_epochs = 50\n",
        "train_losses = []\n",
        "\n",
        "for epoch in range(num_epochs):\n",
        "    model.train()\n",
        "    epoch_loss = 0\n",
        "    for features, labels in train_loader:\n",
        "        outputs = model(features)\n",
        "        # labels = labels.unsqueeze(1)\n",
        "        loss = criterion(outputs, labels)\n",
        "\n",
        "        optimizer.zero_grad()\n",
        "        loss.backward()\n",
        "        optimizer.step()\n",
        "\n",
        "    train_losses.append(loss.item())\n",
        "\n",
        "    if (epoch+1) % 5 == 0:\n",
        "        print(f'Epoch [{epoch+1}/{num_epochs}], Loss: {loss.item():.4f}')\n",
        "\n",
        "print('Training complete')\n"
      ]
    },
    {
      "cell_type": "code",
      "execution_count": 54,
      "metadata": {
        "colab": {
          "base_uri": "https://localhost:8080/",
          "height": 487
        },
        "id": "_8AGYg3JqxlY",
        "outputId": "862604b8-d521-4914-942a-dea4d1c830c3"
      },
      "outputs": [
        {
          "data": {
            "image/png": "[encoded data removed]",
            "text/plain": [
              "<Figure size 800x500 with 1 Axes>"
            ]
          },
          "metadata": {},
          "output_type": "display_data"
        }
      ],
      "source": [
        "plt.figure(figsize=(8, 5))\n",
        "plt.plot(train_losses, label='Training Loss')\n",
        "plt.xlabel('Epoch')\n",
        "plt.ylabel('Loss')\n",
        "plt.title('Training Loss over Epochs')\n",
        "plt.legend()\n",
        "plt.show()"
      ]
    },
    {
      "cell_type": "code",
      "execution_count": null,
      "metadata": {
        "id": "bsXQpkhhn-O1"
      },
      "outputs": [],
      "source": [
        "def evaluate_model(loader, model):\n",
        "    model.eval()  # 평가 모드로 전환\n",
        "    total = 0\n",
        "    correct = 0\n",
        "    tp = tn = fp = fn = 0\n",
        "\n",
        "    # 평가 단계이므로 파라미터 업데이트X\n",
        "    with torch.no_grad():\n",
        "        for sequences, labels in loader:\n",
        "            outputs = model(sequences)\n",
        "            # out = 각 클래스(오를 확률, 내릴 확률)에 대한 logit\n",
        "            # max함수를 통해 로짓에서 큰 값을 가진 인덱스 반환\n",
        "            # 최대값의 인덱스 = 예측된 클래스 레이블\n",
        "            _, predicted = torch.max(outputs, 1)\n",
        "\n",
        "            # total += labels.size(0)\n",
        "            # correct += (predicted == labels).sum().item()\n",
        "\n",
        "            tp += ((predicted == 1) & (labels == 1)).sum().item()\n",
        "            tn += ((predicted == 0) & (labels == 0)).sum().item()\n",
        "            fp += ((predicted == 1) & (labels == 0)).sum().item()\n",
        "            fn += ((predicted == 0) & (labels == 1)).sum().item()\n",
        "            # print(f'labels: {labels}')\n",
        "            # print(f'predicted: {predicted}')\n",
        "    accuracy = (tp+tn)/(tp+tn+fp+fn)\n",
        "    denominator = np.sqrt((tp + fp) * (tp + fn) * (tn + fp) * (tn + fn))\n",
        "    macc = (tp * tn - fp * fn) / denominator if denominator != 0 else 0\n",
        "\n",
        "    print(f'ACC: {accuracy:.4f}, MACC: {macc:.4f}')\n",
        "    print(f'TP: {tp}, TN: {tn}, FP: {fp}, FN: {fn}')"
      ]
    },
    {
      "cell_type": "code",
      "execution_count": null,
      "metadata": {
        "colab": {
          "base_uri": "https://localhost:8080/"
        },
        "id": "MpzCjyvloKNW",
        "outputId": "80d54ea8-5e90-4e08-cb97-6d398bb84441"
      },
      "outputs": [],
      "source": [
        "train_acc = evaluate_model(train_loader, model)"
      ]
    },
    {
      "cell_type": "code",
      "execution_count": null,
      "metadata": {
        "colab": {
          "base_uri": "https://localhost:8080/"
        },
        "id": "h_csG0EioMO6",
        "outputId": "49f799c2-5932-4b4a-de04-1fdce8c29615"
      },
      "outputs": [],
      "source": [
        "val_acc = evaluate_model(val_loader, model)"
      ]
    },
    {
      "cell_type": "code",
      "execution_count": null,
      "metadata": {
        "colab": {
          "base_uri": "https://localhost:8080/"
        },
        "id": "qiPy6p-zsIMD",
        "outputId": "efd70e34-df4e-44e3-92e9-dbf1952a27f1"
      },
      "outputs": [],
      "source": [
        "test_acc = evaluate_model(test_loader, model)"
      ]
    },
    {
      "cell_type": "markdown",
      "metadata": {
        "id": "rT0pPXT2mz4c"
      },
      "source": [
        "### Price + Sentiment Scores"
      ]
    },
    {
      "cell_type": "code",
      "execution_count": null,
      "metadata": {
        "colab": {
          "base_uri": "https://localhost:8080/",
          "height": 423
        },
        "id": "gI91Y_Y6dxhk",
        "outputId": "2cfe7b37-314f-4b0c-9099-c21554582ce8"
      },
      "outputs": [],
      "source": [
        "sentiment = pd.read_csv('sentiment.csv')\n",
        "sentiment.drop(columns=['Unnamed: 0'], inplace=True)\n",
        "sentiment.rename(columns={'filename':'Date'}, inplace=True)\n",
        "sentiment['Date'] = pd.to_datetime(sentiment['Date'])\n",
        "sentiment"
      ]
    },
    {
      "cell_type": "code",
      "execution_count": null,
      "metadata": {
        "colab": {
          "base_uri": "https://localhost:8080/",
          "height": 825
        },
        "id": "qw_SpqX7fzrb",
        "outputId": "7c085957-691e-41c8-bee9-a7bd992c93a9"
      },
      "outputs": [],
      "source": [
        "filtered['Date']= pd.to_datetime(filtered['Date'])\n",
        "total = pd.merge(sentiment, filtered,on=[\"Date\",'Stock'])\n",
        "total"
      ]
    },
    {
      "cell_type": "code",
      "execution_count": null,
      "metadata": {
        "colab": {
          "base_uri": "https://localhost:8080/"
        },
        "id": "-kpexCj5YYdv",
        "outputId": "f11dfb1d-2f8f-4acb-d505-5f974842f1c1"
      },
      "outputs": [],
      "source": [
        "stocks = total['Stock'].unique()\n",
        "for stock in stocks:\n",
        "        stock_data = total[total['Stock'] == stock].drop(columns=['Stock', 'Date', 'cleaned_tweet', 'label'])\n",
        "        stock_data = stock_data.sort_index()\n",
        "        movement = stock_data.iloc[0,-4]\n",
        "print(stock_data)"
      ]
    },
    {
      "cell_type": "code",
      "execution_count": null,
      "metadata": {
        "id": "yOVUs5aMh5ez"
      },
      "outputs": [],
      "source": [
        "import numpy as np\n",
        "\n",
        "def data_sequences(df, window_size):\n",
        "    total_sequences = []\n",
        "    total_sentiments = []\n",
        "    total_labels = []\n",
        "\n",
        "    stocks = df['Stock'].unique()\n",
        "\n",
        "    for stock in stocks:\n",
        "        stock_data = df[df['Stock'] == stock].drop(columns=['Stock', 'Date', 'cleaned_tweet', 'label','Unnamed: 0'])\n",
        "        stock_data = stock_data.sort_index()\n",
        "        stock_data = stock_data.to_numpy()\n",
        "\n",
        "        for i in range(len(stock_data) - window_size):\n",
        "            seq = stock_data[i:i + window_size, 4:10]  # Open, High, Low, Close, Adj Close, Volume을 포함\n",
        "            sentiment = stock_data[i:i + window_size, :3]  # positive, negative, neutral 열만 포함\n",
        "            movement = stock_data[i + window_size, -2]  # movement 열을 레이블로 사용\n",
        "\n",
        "            total_sequences.append(seq)\n",
        "            total_sentiments.append(sentiment)\n",
        "            total_labels.append(movement)\n",
        "\n",
        "    # 전체 시퀀스와 감정 데이터의 형태를 확인합니다.\n",
        "    total_sequences = np.array(total_sequences)\n",
        "    total_sentiments = np.array(total_sentiments)\n",
        "    total_labels = np.array(total_labels)\n",
        "\n",
        "    return total_sequences, total_sentiments, total_labels\n",
        "\n",
        "# 예시 데이터 프레임 생성 및 시퀀스 생성\n",
        "window_size = 5\n",
        "total_sequences, total_sentiments, total_labels = data_sequences(total, window_size)\n"
      ]
    },
    {
      "cell_type": "code",
      "execution_count": null,
      "metadata": {
        "id": "v3g4ylyaZTWH"
      },
      "outputs": [],
      "source": [
        "total_train_df = total[(total['Date']>='2014-01-01') & (total['Date']<='2015-08-01')]\n",
        "total_valid_df = total[(total['Date']>='2014-08-01') & (total['Date']<='2015-10-01')]\n",
        "total_test_df = total[(total['Date']>='2015-10-01') & (total['Date']<='2016-01-01')]\n",
        "\n",
        "total_train_sequences, total_train_sentiments, total_train_labels = data_sequences(total_train_df, window_size)\n",
        "total_val_sequences, total_val_sentiments, total_val_labels = data_sequences(total_valid_df, window_size)\n",
        "total_test_sequences, total_test_sentiments, total_test_labels = data_sequences(total_test_df, window_size)"
      ]
    },
    {
      "cell_type": "code",
      "execution_count": null,
      "metadata": {
        "colab": {
          "base_uri": "https://localhost:8080/"
        },
        "id": "_nTsjBTYdJSU",
        "outputId": "c138b607-959e-4df3-9114-62d683b89e7d"
      },
      "outputs": [],
      "source": [
        "print(f'total_train_sequences shape: {total_train_sequences.shape}')\n",
        "print(f'total_train_sentiments shape: {total_train_sentiments.shape}')\n",
        "print(f'total_train_labels shape: {total_train_labels.shape}')"
      ]
    },
    {
      "cell_type": "code",
      "execution_count": null,
      "metadata": {
        "colab": {
          "base_uri": "https://localhost:8080/"
        },
        "id": "c4KX5pC6d5j1",
        "outputId": "5b4d07c2-4a6f-40a3-dfa8-cef31a04d1ef"
      },
      "outputs": [],
      "source": [
        "print(total_train_sequences)"
      ]
    },
    {
      "cell_type": "code",
      "execution_count": null,
      "metadata": {
        "id": "umw4y1ZOlDfu"
      },
      "outputs": [],
      "source": [
        "total_train_df = total[(total['Date']>='2014-01-01') & (total['Date']<='2015-08-01')]\n",
        "total_valid_df = total[(total['Date']>='2014-08-01') & (total['Date']<='2015-10-01')]\n",
        "total_test_df = total[(total['Date']>='2015-10-01') & (total['Date']<='2016-01-01')]\n",
        "\n",
        "total_train_sequences, total_train_sentiments, total_train_labels = data_sequences(total_train_df, window_size)\n",
        "total_val_sequences, total_val_sentiments, total_val_labels = data_sequences(total_valid_df, window_size)\n",
        "total_test_sequences, total_test_sentiments, total_test_labels = data_sequences(total_test_df, window_size)\n",
        "\n",
        "# # 각각의 데이터셋에 대해 시퀀스 생성\n",
        "def prepare_data(price_sequence, sentiment_sequence, labels):\n",
        "    price_sequences = torch.tensor(np.array(price_sequence), dtype=torch.float32)\n",
        "    sentiment_sequences = torch.tensor(np.array(sentiment_sequence), dtype=torch.float32)\n",
        "    labels = torch.tensor(labels, dtype=torch.long).unsqueeze(1)  # 이진 분류를 위해 shape를 (N, 1)로 맞춤\n",
        "    return price_sequences, sentiment_sequences, labels\n",
        "\n",
        "# # 데이터 준비\n",
        "train_price_sequences, train_sentiment_sequences, train_labels = prepare_data(total_train_sequences, total_train_sentiments,total_train_labels)\n",
        "val_price_sequences, val_sentiment_sequences, val_labels = prepare_data(total_val_sequences, total_val_sentiments,total_val_labels)\n",
        "test_price_sequences, test_sentiment_sequences, test_labels = prepare_data(total_test_sequences, total_test_sentiments,total_test_labels)\n",
        "\n",
        "\n",
        "# 데이터 로더 생성\n",
        "batch_size = 32\n",
        "total_train_dataset = TensorDataset(train_price_sequences, train_sentiment_sequences, train_labels)\n",
        "total_val_dataset = TensorDataset(val_price_sequences, val_sentiment_sequences, val_labels)\n",
        "total_test_dataset = TensorDataset(test_price_sequences, test_sentiment_sequences, test_labels)\n",
        "\n",
        "\n",
        "total_train_loader = DataLoader(total_train_dataset, batch_size=batch_size, shuffle=False)\n",
        "total_val_loader = DataLoader(total_val_dataset, batch_size=batch_size, shuffle=False)\n",
        "total_test_loader = DataLoader(total_test_dataset, batch_size=batch_size, shuffle=False)\n",
        "\n"
      ]
    },
    {
      "cell_type": "code",
      "execution_count": null,
      "metadata": {
        "colab": {
          "base_uri": "https://localhost:8080/"
        },
        "id": "KZbfV3yFsDoo",
        "outputId": "ac035234-86e9-40a1-ccf5-77ff1ff432c3"
      },
      "outputs": [],
      "source": [
        "print(f\"Train price sequences shape: {total_train_sequences.shape}\")\n",
        "print(f\"Train sentiment sequences shape: {total_train_sentiments.shape}\")\n",
        "print(f\"Train labels shape: {total_train_labels.shape}\")\n",
        "\n",
        "print(f\"Val price sequences shape: {total_val_sequences.shape}\")\n",
        "print(f\"Val sentiment sequences shape: {total_val_sentiments.shape}\")\n",
        "print(f\"Val labels shape: {total_val_labels.shape}\")\n",
        "\n",
        "print(f\"Test price sequences shape: {total_test_sequences.shape}\")\n",
        "print(f\"Test sentiment sequences shape: {total_test_sentiments.shape}\")\n",
        "print(f\"Test labels shape: {total_test_labels.shape}\")\n"
      ]
    },
    {
      "cell_type": "markdown",
      "metadata": {
        "id": "rEHdnJ2nL7lg"
      },
      "source": [
        "### RNN"
      ]
    },
    {
      "cell_type": "code",
      "execution_count": null,
      "metadata": {
        "id": "PIbwP8AModcL"
      },
      "outputs": [],
      "source": [
        "class RNNWithSentiment(nn.Module):\n",
        "    def __init__(self, input_size_price, hidden_size, output_size, input_size_sentiment, num_layers, dropout=0.3):\n",
        "        super(RNNWithSentiment, self).__init__()\n",
        "        self.input_size_price = input_size_price\n",
        "        self.hidden_size = hidden_size\n",
        "        self.num_layers = num_layers\n",
        "        self.input_size_sentiment = input_size_sentiment\n",
        "        self.dropout = nn.Dropout(p=dropout)\n",
        "        self.rnn = nn.RNN(input_size_price, hidden_size, num_layers, batch_first=True)\n",
        "        # Fully connected layer의 입력 크기는 hidden_size와 sentiment_sequences 평탄화 크기의 합\n",
        "        self.fc = nn.Linear(hidden_size + (input_size_sentiment * window_size), output_size)  # window_size는 시퀀스 길이\n",
        "\n",
        "    def forward(self, x, sentiment_sequences):\n",
        "        h0 = torch.zeros(self.num_layers, x.size(0), self.hidden_size).to(x.device)\n",
        "        out, hn = self.rnn(x, h0)\n",
        "        last_hidden = hn[-1]  # 마지막 hidden state 사용\n",
        "\n",
        "        # sentiment_sequences를 평탄화하여 (batch_size, seq_len * input_size_sentiment) 형태로 변환\n",
        "        sentiment_data = sentiment_sequences.view(sentiment_sequences.size(0), -1)\n",
        "\n",
        "        # last_hidden과 sentiment_data를 결합\n",
        "        combined = torch.cat((last_hidden, sentiment_data), dim=1)\n",
        "\n",
        "        combined = self.dropout(combined)\n",
        "        output = self.fc(combined)\n",
        "        return output\n",
        "\n",
        "\n",
        "input_size_price = total_train_sequences.shape[2]  # 특성 수\n",
        "input_size_sentiment = total_train_sentiments.shape[2]\n",
        "hidden_size = 16\n",
        "output_size = 2  # 이진 분류\n",
        "num_layers=1\n",
        "\n",
        "model = RNNWithSentiment(input_size_price,hidden_size,output_size,input_size_sentiment,num_layers)"
      ]
    },
    {
      "cell_type": "code",
      "execution_count": null,
      "metadata": {
        "colab": {
          "base_uri": "https://localhost:8080/"
        },
        "id": "KtQdvuSsdM3G",
        "outputId": "43292096-3aea-4f09-c4ae-e9da4c7e814f"
      },
      "outputs": [],
      "source": [
        "criterion = nn.CrossEntropyLoss()\n",
        "optimizer = optim.Adam(model.parameters(), lr=0.001)\n",
        "\n",
        "num_epochs = 50\n",
        "train_losses = []\n",
        "\n",
        "for epoch in range(num_epochs):\n",
        "    model.train()\n",
        "    epoch_loss = 0\n",
        "    for sequences, sentiments,labels in total_train_loader:\n",
        "        outputs = model(sequences,sentiments)\n",
        "        labels = labels.squeeze(1).long()\n",
        "        loss = criterion(outputs, labels)\n",
        "        # labels = labels.float().view(-1, 1)\n",
        "        optimizer.zero_grad()\n",
        "        loss.backward()\n",
        "        optimizer.step()\n",
        "\n",
        "    train_losses.append(loss.item())\n",
        "\n",
        "    if (epoch+1) % 10 == 0:\n",
        "        print(f'Epoch [{epoch+1}/{num_epochs}], Loss: {loss.item():.4f}')\n",
        "\n",
        "print('Training complete')"
      ]
    },
    {
      "cell_type": "code",
      "execution_count": null,
      "metadata": {
        "id": "SGu0x9rhSxGa"
      },
      "outputs": [],
      "source": [
        "def evaluate_add_model(loader, model):\n",
        "    model.eval()  # 평가 모드로 전환\n",
        "    total = 0\n",
        "    correct = 0\n",
        "    tp = tn = fp = fn = 0\n",
        "\n",
        "    # 평가 단계이므로 파라미터 업데이트X\n",
        "    with torch.no_grad():\n",
        "        for features, sentiment_data, labels in loader:\n",
        "            outputs = model(features, sentiment_data)\n",
        "            # out = 각 클래스(오를 확률, 내릴 확률)에 대한 logit\n",
        "            # max함수를 통해 로짓에서 큰 값을 가진 인덱스 반환\n",
        "            _, predicted = torch.max(outputs, 1)\n",
        "\n",
        "            # total += labels.size(0)\n",
        "            # correct += (predicted == labels).sum().item()\n",
        "\n",
        "            tp += ((predicted == 1) & (labels == 1)).sum().item()\n",
        "            tn += ((predicted == 0) & (labels == 0)).sum().item()\n",
        "            fp += ((predicted == 1) & (labels == 0)).sum().item()\n",
        "            fn += ((predicted == 0) & (labels == 1)).sum().item()\n",
        "\n",
        "    accuracy = (tp+tn)/(tp+tn+fp+fn)\n",
        "    macc = (tp*tn-fp*fn) / np.sqrt(float (tp+fp)*(tp+fn)*(tn+fp)*(tn+fn))\n",
        "\n",
        "    print(f'ACC: {accuracy:.4f}, MACC: {macc:.4f}')\n",
        "    print(f'TP: {tp}, TN: {tn}, FP: {fp}, FN: {fn}')"
      ]
    },
    {
      "cell_type": "code",
      "execution_count": null,
      "metadata": {
        "colab": {
          "base_uri": "https://localhost:8080/"
        },
        "id": "coZcvbnOaC5E",
        "outputId": "59106fee-9e51-4b21-9ab7-78caf0aaef89"
      },
      "outputs": [],
      "source": [
        "train_acc = evaluate_add_model(total_train_loader, model)"
      ]
    },
    {
      "cell_type": "code",
      "execution_count": null,
      "metadata": {
        "colab": {
          "base_uri": "https://localhost:8080/"
        },
        "id": "FZHX3tgXaO6_",
        "outputId": "e7d1b348-6ef2-4c07-b514-4edc62d49305"
      },
      "outputs": [],
      "source": [
        "val_acc = evaluate_add_model(total_val_loader, model)"
      ]
    },
    {
      "cell_type": "code",
      "execution_count": null,
      "metadata": {
        "colab": {
          "base_uri": "https://localhost:8080/"
        },
        "id": "u5L8sbGPgDu9",
        "outputId": "9a32db68-2a28-44d0-97ca-618049417388"
      },
      "outputs": [],
      "source": [
        "test_acc = evaluate_add_model(total_test_loader, model)\n",
        "# 다 1로 예측"
      ]
    },
    {
      "cell_type": "markdown",
      "metadata": {
        "id": "Ns4HhQIVLu0d"
      },
      "source": [
        "### RNN+RNN"
      ]
    },
    {
      "cell_type": "code",
      "execution_count": null,
      "metadata": {
        "colab": {
          "base_uri": "https://localhost:8080/"
        },
        "id": "hyvUbZElhS0c",
        "outputId": "cc5491a7-a350-4112-ddae-d1a1b9460c12"
      },
      "outputs": [],
      "source": [
        "class RNNSentiment(nn.Module):\n",
        "    def __init__(self, input_size_price, hidden_size_price, input_size_sentiment, hidden_size_sentiment, output_size, num_layers, dropout=0.3):\n",
        "        super(RNNSentiment, self).__init__()\n",
        "        self.hidden_size_price = hidden_size_price\n",
        "        self.hidden_size_sentiment = hidden_size_sentiment\n",
        "        self.num_layers = num_layers\n",
        "\n",
        "        self.rnn_price = nn.RNN(input_size_price, hidden_size_price, num_layers, batch_first=True)\n",
        "        self.rnn_sentiment = nn.RNN(input_size_sentiment, hidden_size_sentiment, num_layers, batch_first=True)\n",
        "\n",
        "        self.dropout = nn.Dropout(p=dropout)\n",
        "        self.fc = nn.Linear(hidden_size_price + hidden_size_sentiment, output_size)\n",
        "\n",
        "    def forward(self, price_sequences, sentiment_sequences):\n",
        "        h0_price = torch.zeros(self.num_layers, price_sequences.size(0), self.hidden_size_price).to(price_sequences.device)\n",
        "        h0_sentiment = torch.zeros(self.num_layers, sentiment_sequences.size(0), self.hidden_size_sentiment).to(sentiment_sequences.device)\n",
        "\n",
        "        _, hn_price = self.rnn_price(price_sequences, h0_price)\n",
        "        _, hn_sentiment = self.rnn_sentiment(sentiment_sequences, h0_sentiment)\n",
        "\n",
        "        last_hidden_price = hn_price[-1]  # 마지막 hidden state 사용\n",
        "        last_hidden_sentiment = hn_sentiment[-1]  # 마지막 hidden state 사용\n",
        "\n",
        "        combined = torch.cat((last_hidden_price, last_hidden_sentiment), dim=1)\n",
        "        combined = self.dropout(combined)\n",
        "        output = self.fc(combined)\n",
        "        return output\n",
        "\n",
        "input_size_price = total_train_sequences.shape[2]  # 특성 수\n",
        "input_size_sentiment = total_train_sentiments.shape[2]\n",
        "hidden_size_price = 16\n",
        "hidden_size_sentiment = 16\n",
        "output_size = 2  # 이진 분류\n",
        "num_layers = 1\n",
        "\n",
        "model2 = RNNSentiment(input_size_price, hidden_size_price, input_size_sentiment, hidden_size_sentiment, output_size, num_layers)\n",
        "\n",
        "criterion = nn.CrossEntropyLoss()\n",
        "optimizer = optim.Adam(model2.parameters(), lr=0.001)\n",
        "\n",
        "num_epochs = 50\n",
        "train_losses = []\n",
        "\n",
        "for epoch in range(num_epochs):\n",
        "    model2.train()\n",
        "    epoch_loss = 0\n",
        "    for sequences, sentiments, labels in total_train_loader:\n",
        "        outputs = model2(sequences, sentiments)\n",
        "        labels = labels.squeeze(1).long()\n",
        "        loss = criterion(outputs, labels)\n",
        "        optimizer.zero_grad()\n",
        "        loss.backward()\n",
        "        optimizer.step()\n",
        "\n",
        "    train_losses.append(loss.item())\n",
        "\n",
        "    if (epoch + 1) % 5 == 0:\n",
        "        print(f'Epoch [{epoch + 1}/{num_epochs}], Loss: {loss.item():.4f}')\n",
        "\n",
        "print('Training complete')\n"
      ]
    },
    {
      "cell_type": "code",
      "execution_count": null,
      "metadata": {
        "colab": {
          "base_uri": "https://localhost:8080/"
        },
        "id": "AyyVV3Ocl69Z",
        "outputId": "f5da0b2a-ec4c-4f9e-b90e-7640cd8b9cf6"
      },
      "outputs": [],
      "source": [
        "train_acc = evaluate_add_model(total_train_loader, model2)"
      ]
    },
    {
      "cell_type": "code",
      "execution_count": null,
      "metadata": {
        "colab": {
          "base_uri": "https://localhost:8080/"
        },
        "id": "fc6o7bmImegR",
        "outputId": "e7daef14-a8a7-4966-eb3d-2a02b8e4c83c"
      },
      "outputs": [],
      "source": [
        "val_acc = evaluate_add_model(total_val_loader, model2)"
      ]
    },
    {
      "cell_type": "code",
      "execution_count": null,
      "metadata": {
        "colab": {
          "base_uri": "https://localhost:8080/"
        },
        "id": "VQIRusFtmi-T",
        "outputId": "dcedc9e4-d361-4efd-ed56-24bf94f3b925"
      },
      "outputs": [],
      "source": [
        "test_acc = evaluate_add_model(total_test_loader, model2)\n",
        "# 대부분 1로 예측(0도 있긴 있음)"
      ]
    },
    {
      "cell_type": "markdown",
      "metadata": {
        "id": "CYrpp7p9LnRt"
      },
      "source": [
        "### RNN+MLP"
      ]
    },
    {
      "cell_type": "code",
      "execution_count": null,
      "metadata": {
        "colab": {
          "base_uri": "https://localhost:8080/"
        },
        "id": "ynVDxNovu6AA",
        "outputId": "26c8fe0d-073e-44a9-a6ee-85fd3c0cb0de"
      },
      "outputs": [],
      "source": [
        "class RNNWithMLP(nn.Module):\n",
        "    def __init__(self, input_size_price, hidden_size_price, input_size_sentiment, hidden_size_sentiment, output_size, num_layers, dropout=0.3):\n",
        "        super(RNNWithMLP, self).__init__()\n",
        "        self.hidden_size_price = hidden_size_price\n",
        "        self.hidden_size_sentiment = hidden_size_sentiment\n",
        "        self.num_layers = num_layers\n",
        "\n",
        "        # RNN 정의\n",
        "        self.rnn = nn.RNN(input_size_price, hidden_size_price, num_layers, batch_first=True)\n",
        "\n",
        "        # 감정 데이터에 대한 MLP 정의\n",
        "        self.mlp = nn.Sequential(\n",
        "            nn.Linear(input_size_sentiment, hidden_size_sentiment),\n",
        "            nn.ReLU(),\n",
        "            nn.Linear(hidden_size_sentiment, hidden_size_sentiment)\n",
        "        )\n",
        "\n",
        "        self.dropout = nn.Dropout(p=dropout)\n",
        "        self.fc = nn.Linear(hidden_size_price + hidden_size_sentiment, output_size)\n",
        "\n",
        "    def forward(self, price_sequences, sentiment_sequences):\n",
        "        batch_size = price_sequences.size(0)\n",
        "\n",
        "        # RNN 처리\n",
        "        h0_price = torch.zeros(self.num_layers, batch_size, self.hidden_size_price).to(price_sequences.device)\n",
        "        _, hn_price = self.rnn(price_sequences, h0_price)\n",
        "        last_hidden_price = hn_price[-1]  # 마지막 hidden state 사용\n",
        "\n",
        "        # 전체 시퀀스의 감정 데이터에 대해 MLP 적용\n",
        "        sentiment_features = self.mlp(sentiment_sequences.view(-1, sentiment_sequences.size(-1)))\n",
        "        sentiment_features = sentiment_features.view(sentiment_sequences.size(0), sentiment_sequences.size(1), -1)\n",
        "\n",
        "        # 마지막 시퀀스의 MLP 결과만 사용하는 대신, 전체 시퀀스의 평균 또는 합산 결과를 사용할 수 있습니다.\n",
        "        sentiment_data = sentiment_features.mean(dim=1)  # 전체 시퀀스의 평균값\n",
        "\n",
        "        # 결과 결합\n",
        "        out = torch.cat((last_hidden_price, sentiment_data), dim=1)\n",
        "        combined = self.dropout(out)\n",
        "        output = self.fc(combined)\n",
        "        return output\n",
        "\n",
        "model3 = RNNWithMLP(input_size_price, hidden_size_price, input_size_sentiment, hidden_size_sentiment, output_size, num_layers)\n",
        "criterion = nn.CrossEntropyLoss()\n",
        "optimizer = optim.Adam(model3.parameters(), lr=0.001)\n",
        "for epoch in range(num_epochs):\n",
        "    model3.train()\n",
        "    epoch_loss = 0\n",
        "    for sequences, sentiments, labels in total_train_loader:\n",
        "        outputs = model3(sequences, sentiments)\n",
        "        labels = labels.squeeze(1).long()\n",
        "        loss = criterion(outputs, labels)\n",
        "        optimizer.zero_grad()\n",
        "        loss.backward()\n",
        "        optimizer.step()\n",
        "\n",
        "    train_losses.append(loss.item())\n",
        "\n",
        "    if (epoch + 1) % 5 == 0:\n",
        "        print(f'Epoch [{epoch + 1}/{num_epochs}], Loss: {loss.item():.4f}')\n",
        "\n",
        "print('Training complete')"
      ]
    },
    {
      "cell_type": "code",
      "execution_count": null,
      "metadata": {
        "colab": {
          "base_uri": "https://localhost:8080/"
        },
        "id": "6ESlxrsbpF_1",
        "outputId": "aaf28642-3c30-4cd2-e028-c765a2c9bbb0"
      },
      "outputs": [],
      "source": [
        "train_acc3 = evaluate_add_model(total_train_loader, model3)"
      ]
    },
    {
      "cell_type": "code",
      "execution_count": null,
      "metadata": {
        "colab": {
          "base_uri": "https://localhost:8080/"
        },
        "id": "AzpMZ3xJrH-k",
        "outputId": "cf8a482a-cf06-447b-df36-ffc578d0ed00"
      },
      "outputs": [],
      "source": [
        "val_acc3 = evaluate_add_model(total_val_loader, model3)"
      ]
    },
    {
      "cell_type": "code",
      "execution_count": null,
      "metadata": {
        "colab": {
          "base_uri": "https://localhost:8080/"
        },
        "id": "WY9B32iTrLKL",
        "outputId": "1e8641e3-6072-4fd9-fe7f-a8828a02fb90"
      },
      "outputs": [],
      "source": [
        "test_acc3 = evaluate_add_model(total_test_loader, model3)"
      ]
    },
    {
      "cell_type": "markdown",
      "metadata": {
        "id": "_GcnhfXJL2GZ"
      },
      "source": [
        "### Attention"
      ]
    },
    {
      "cell_type": "code",
      "execution_count": null,
      "metadata": {
        "colab": {
          "base_uri": "https://localhost:8080/"
        },
        "id": "0379S_UUyBKZ",
        "outputId": "906ed530-a178-46dd-a90b-1f6e95332b90"
      },
      "outputs": [],
      "source": [
        "import torch\n",
        "import torch.nn as nn\n",
        "import torch.nn.functional as F\n",
        "\n",
        "class Attention(nn.Module):\n",
        "    def __init__(self, hidden_size):\n",
        "        super(Attention, self).__init__()\n",
        "        self.hidden_size = hidden_size\n",
        "        self.query_fc = nn.Linear(hidden_size, hidden_size)\n",
        "        self.key_fc = nn.Linear(hidden_size, hidden_size)\n",
        "        self.value_fc = nn.Linear(hidden_size, hidden_size)\n",
        "\n",
        "    def forward(self, query, keys, values):\n",
        "        # Query, Key, Value의 차원: [batch_size, seq_len, hidden_size]\n",
        "        query = self.query_fc(query)  # [batch_size, seq_len, hidden_size]\n",
        "        keys = self.key_fc(keys)      # [batch_size, seq_len, hidden_size]\n",
        "        values = self.value_fc(values) # [batch_size, seq_len, hidden_size]\n",
        "\n",
        "        # Scoring\n",
        "        scores = torch.bmm(query, keys.transpose(1, 2))  # [batch_size, seq_len, seq_len]\n",
        "        weights = F.softmax(scores, dim=-1)  # [batch_size, seq_len, seq_len]\n",
        "\n",
        "        # Weighted sum\n",
        "        attended_values = torch.bmm(weights, values)  # [batch_size, seq_len, hidden_size]\n",
        "        return attended_values\n",
        "class RNNWithAttention(nn.Module):\n",
        "    def __init__(self, input_size_price, hidden_size, output_size, input_size_sentiment, num_layers, dropout=0.3):\n",
        "        super(RNNWithAttention, self).__init__()\n",
        "        self.hidden_size = hidden_size\n",
        "        self.num_layers = num_layers\n",
        "        self.rnn = nn.RNN(input_size_price, hidden_size, num_layers, batch_first=True)\n",
        "        self.attention = Attention(hidden_size)\n",
        "        self.sentiment_mlp = nn.Linear(input_size_sentiment, hidden_size)  # 감정 데이터의 MLP\n",
        "        self.fc = nn.Linear(hidden_size * 2, output_size)  # RNN hidden state + Attention output\n",
        "        self.dropout = nn.Dropout(p=dropout)\n",
        "\n",
        "    def forward(self, x, sentiment_sequences):\n",
        "        h0 = torch.zeros(self.num_layers, x.size(0), self.hidden_size).to(x.device)\n",
        "        rnn_out, hn = self.rnn(x, h0)\n",
        "        last_hidden = hn[-1]  # 마지막 hidden state 사용\n",
        "\n",
        "        # 감정 데이터에 MLP 적용\n",
        "        sentiment_out = self.sentiment_mlp(sentiment_sequences)  # [batch_size, seq_len, hidden_size]\n",
        "\n",
        "        # 어텐션 적용\n",
        "        # RNN의 출력 마지막 상태를 Query로 사용\n",
        "        last_hidden_expanded = last_hidden.unsqueeze(1)  # [batch_size, 1, hidden_size]\n",
        "        attention_out = self.attention(last_hidden_expanded, sentiment_out, sentiment_out)\n",
        "        attention_out = attention_out.squeeze(1)  # [batch_size, hidden_size]\n",
        "\n",
        "        # 결합\n",
        "        combined_out = torch.cat((last_hidden, attention_out), dim=1)\n",
        "        combined_out = self.dropout(combined_out)\n",
        "        output = self.fc(combined_out)\n",
        "        return output\n",
        "model4 = RNNWithMLP(input_size_price, hidden_size_price, input_size_sentiment, hidden_size_sentiment, output_size, num_layers)\n",
        "\n",
        "for epoch in range(num_epochs):\n",
        "    model4.train()\n",
        "    epoch_loss = 0\n",
        "    for sequences, sentiments, labels in total_train_loader:\n",
        "        outputs = model4(sequences, sentiments)\n",
        "        labels = labels.squeeze(1).long()\n",
        "        loss = criterion(outputs, labels)\n",
        "        optimizer.zero_grad()\n",
        "        loss.backward()\n",
        "        optimizer.step()\n",
        "\n",
        "    train_losses.append(loss.item())\n",
        "\n",
        "    if (epoch + 1) % 5 == 0:\n",
        "        print(f'Epoch [{epoch + 1}/{num_epochs}], Loss: {loss.item():.4f}')\n",
        "\n",
        "print('Training complete')"
      ]
    },
    {
      "cell_type": "code",
      "execution_count": null,
      "metadata": {
        "colab": {
          "base_uri": "https://localhost:8080/"
        },
        "id": "gX4nxIwHycZl",
        "outputId": "62b22056-cf9b-4c82-d2dd-8365a2595a82"
      },
      "outputs": [],
      "source": [
        "train_acc4 = evaluate_add_model(total_train_loader, model4)"
      ]
    },
    {
      "cell_type": "code",
      "execution_count": null,
      "metadata": {
        "colab": {
          "base_uri": "https://localhost:8080/"
        },
        "id": "Ihbtc39jzcaf",
        "outputId": "ff183422-0331-40e6-9c5e-6483d0cd8c46"
      },
      "outputs": [],
      "source": [
        "val_acc4 = evaluate_add_model(total_val_loader, model4)"
      ]
    },
    {
      "cell_type": "code",
      "execution_count": null,
      "metadata": {
        "colab": {
          "base_uri": "https://localhost:8080/"
        },
        "id": "qnBTLOKHEXoq",
        "outputId": "c39b1b27-ede5-4a89-e391-de36ba518bc9"
      },
      "outputs": [],
      "source": [
        "test_acc4 = evaluate_add_model(total_test_loader, model4)"
      ]
    },
    {
      "cell_type": "markdown",
      "metadata": {
        "id": "30Ds0FDQK4Pl"
      },
      "source": [
        "### Calculating Correlation"
      ]
    },
    {
      "cell_type": "code",
      "execution_count": null,
      "metadata": {
        "colab": {
          "base_uri": "https://localhost:8080/"
        },
        "id": "Tl--F0EZEZ90",
        "outputId": "4b0c054a-3ee4-4078-a03d-4d4e091944bd"
      },
      "outputs": [],
      "source": [
        "from scipy.stats import pearsonr\n",
        "\n",
        "# 필요한 열만 선택\n",
        "correlation_data = total[['positive', 'negative', 'neutral','sentiment_score', 'movement']]\n",
        "\n",
        "# 상관계수 계산\n",
        "correlation_matrix = correlation_data.corr()\n",
        "\n",
        "print(correlation_matrix)"
      ]
    },
    {
      "cell_type": "code",
      "execution_count": null,
      "metadata": {
        "colab": {
          "base_uri": "https://localhost:8080/"
        },
        "id": "hxJf2ftlKXXI",
        "outputId": "6d2aa4a6-bd8a-4900-974b-e838e2499388"
      },
      "outputs": [],
      "source": [
        "# 필요한 열만 선택\n",
        "correlation_data = total[['Open','High','Low','Volume','Close','Adj Close', 'movement']]\n",
        "\n",
        "# 상관계수 계산\n",
        "correlation_matrix = correlation_data.corr()\n",
        "\n",
        "print(correlation_matrix)"
      ]
    },
    {
      "cell_type": "code",
      "execution_count": null,
      "metadata": {
        "colab": {
          "base_uri": "https://localhost:8080/"
        },
        "id": "sZEDYhsbKjOJ",
        "outputId": "98e7388f-983e-4b8c-dfbe-6a04707074c5"
      },
      "outputs": [],
      "source": [
        "# 필요한 열만 선택\n",
        "# 정규화 하기 전\n",
        "correlation_data = combined_df[['Open','High','Low','Volume','Close','Adj Close', 'movement']]\n",
        "\n",
        "# 상관계수 계산\n",
        "correlation_matrix = correlation_data.corr()\n",
        "\n",
        "print(correlation_matrix)"
      ]
    },
    {
      "cell_type": "code",
      "execution_count": null,
      "metadata": {
        "colab": {
          "base_uri": "https://localhost:8080/"
        },
        "id": "n4TavSo8Oeu6",
        "outputId": "ed57a83c-7653-4e2b-820d-ff2c59969e53"
      },
      "outputs": [],
      "source": [
        "import torch\n",
        "import torch.nn as nn\n",
        "import torch.optim as optim\n",
        "import torch.nn.functional as F\n",
        "\n",
        "class AttentionLSTM(nn.Module):\n",
        "    def __init__(self, input_size, hidden_size, num_layers, dropout=0.3):\n",
        "        super(AttentionLSTM, self).__init__()\n",
        "        self.hidden_size = hidden_size\n",
        "        self.num_layers = num_layers\n",
        "\n",
        "        # LSTM 정의\n",
        "        self.lstm = nn.LSTM(input_size, hidden_size, num_layers, batch_first=True)\n",
        "        self.attention = nn.Linear(hidden_size, 1)\n",
        "        self.dropout = nn.Dropout(p=dropout)\n",
        "\n",
        "    def forward(self, x):\n",
        "        batch_size = x.size(0)\n",
        "        h0 = torch.zeros(self.num_layers, batch_size, self.hidden_size).to(x.device)\n",
        "        c0 = torch.zeros(self.num_layers, batch_size, self.hidden_size).to(x.device)\n",
        "\n",
        "        # LSTM 처리\n",
        "        out, (hn, cn) = self.lstm(x, (h0, c0))\n",
        "\n",
        "        # Attention 적용\n",
        "        attn_weights = F.softmax(self.attention(out), dim=1)\n",
        "        context_vector = torch.sum(attn_weights * out, dim=1)\n",
        "        return context_vector\n",
        "\n",
        "class RNNWithMLP(nn.Module):\n",
        "    def __init__(self, input_size_price, hidden_size_price, input_size_sentiment, hidden_size_sentiment, output_size, num_layers, dropout=0.3):\n",
        "        super(RNNWithMLP, self).__init__()\n",
        "        self.hidden_size_price = hidden_size_price\n",
        "        self.hidden_size_sentiment = hidden_size_sentiment\n",
        "        self.num_layers = num_layers\n",
        "\n",
        "        # Attention LSTM 정의\n",
        "        self.alstm = AttentionLSTM(input_size_price, hidden_size_price, num_layers, dropout)\n",
        "\n",
        "        # 감정 데이터에 대한 MLP 정의\n",
        "        self.mlp = nn.Sequential(\n",
        "            nn.Linear(input_size_sentiment, hidden_size_sentiment),\n",
        "            nn.ReLU(),\n",
        "            nn.Linear(hidden_size_sentiment, hidden_size_sentiment)\n",
        "        )\n",
        "\n",
        "        self.dropout = nn.Dropout(p=dropout)\n",
        "        self.fc = nn.Linear(hidden_size_price + hidden_size_sentiment, output_size)\n",
        "\n",
        "    def forward(self, price_sequences, sentiment_sequences):\n",
        "        # ALSTM 처리\n",
        "        price_features = self.alstm(price_sequences)\n",
        "\n",
        "        # 감정 데이터에 대한 MLP 처리\n",
        "        sentiment_features = self.mlp(sentiment_sequences.view(-1, sentiment_sequences.size(-1)))\n",
        "        sentiment_features = sentiment_features.view(sentiment_sequences.size(0), sentiment_sequences.size(1), -1)\n",
        "        sentiment_data = sentiment_features.mean(dim=1)  # 마지막 시퀀스만 사용\n",
        "\n",
        "        # 결과 결합\n",
        "        out = torch.cat((price_features, sentiment_data), dim=1)\n",
        "        combined = self.dropout(out)\n",
        "        output = self.fc(combined)\n",
        "        return output\n",
        "\n",
        "# 모델 정의\n",
        "model5 = RNNWithMLP(input_size_price, hidden_size_price, input_size_sentiment, hidden_size_sentiment, output_size, num_layers)\n",
        "criterion = nn.CrossEntropyLoss()\n",
        "optimizer = optim.Adam(model5.parameters(), lr=0.001)\n",
        "\n",
        "# 학습 루프\n",
        "num_epochs = 50\n",
        "train_losses = []\n",
        "\n",
        "for epoch in range(num_epochs):\n",
        "    model5.train()\n",
        "    epoch_loss = 0\n",
        "    for sequences, sentiments, labels in total_train_loader:\n",
        "        outputs = model5(sequences, sentiments)\n",
        "        labels = labels.squeeze(1).long()\n",
        "        loss = criterion(outputs, labels)\n",
        "        optimizer.zero_grad()\n",
        "        loss.backward()\n",
        "        optimizer.step()\n",
        "        epoch_loss += loss.item()\n",
        "\n",
        "    train_losses.append(epoch_loss / len(total_train_loader))\n",
        "\n",
        "    if (epoch + 1) % 5 == 0:\n",
        "        print(f'Epoch [{epoch + 1}/{num_epochs}], Loss: {epoch_loss / len(total_train_loader):.4f}')\n",
        "\n",
        "print('Training complete')\n"
      ]
    },
    {
      "cell_type": "code",
      "execution_count": null,
      "metadata": {
        "colab": {
          "base_uri": "https://localhost:8080/"
        },
        "id": "ZJsvlHgAPFO-",
        "outputId": "f49b9f8f-4acf-4d31-b2a8-159f70be14bd"
      },
      "outputs": [],
      "source": [
        "train_acc3 = evaluate_add_model(total_train_loader, model5)"
      ]
    },
    {
      "cell_type": "code",
      "execution_count": null,
      "metadata": {
        "colab": {
          "base_uri": "https://localhost:8080/"
        },
        "id": "jMeE01-CPo6m",
        "outputId": "d8e5d759-59e2-4179-e0f9-e1f7ed295098"
      },
      "outputs": [],
      "source": [
        "val_acc3 = evaluate_add_model(total_val_loader, model5)"
      ]
    },
    {
      "cell_type": "code",
      "execution_count": null,
      "metadata": {
        "id": "sbTuAjZYPwjq"
      },
      "outputs": [],
      "source": []
    }
  ],
  "metadata": {
    "colab": {
      "collapsed_sections": [
        "1h3zC6ChfhEV",
        "IQl_MONffnJ8"
      ],
      "provenance": []
    },
    "kernelspec": {
      "display_name": "NLP",
      "language": "python",
      "name": "nlp"
    },
    "language_info": {
      "codemirror_mode": {
        "name": "ipython",
        "version": 3
      },
      "file_extension": ".py",
      "mimetype": "text/x-python",
      "name": "python",
      "nbconvert_exporter": "python",
      "pygments_lexer": "ipython3",
      "version": "3.9.19"
    }
  },
  "nbformat": 4,
  "nbformat_minor": 0
}
