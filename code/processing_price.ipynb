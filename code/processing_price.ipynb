{
  "cells": [
    {
      "cell_type": "code",
      "execution_count": 100,
      "metadata": {
        "id": "f6jwESx5oDXD"
      },
      "outputs": [],
      "source": [
        "import pandas as pd\n",
        "import torch\n",
        "from torch.utils.data import Dataset, DataLoader\n",
        "import torch.nn as nn\n",
        "import torch.optim as optim\n",
        "from sklearn.model_selection import train_test_split\n",
        "from sklearn.preprocessing import StandardScaler\n",
        "import matplotlib.pyplot as plt\n",
        "import numpy as np\n",
        "import pandas as pd\n",
        "import os\n",
        "import zipfile\n",
        "import requests\n",
        "from io import BytesIO"
      ]
    },
    {
      "cell_type": "code",
      "execution_count": null,
      "metadata": {
        "colab": {
          "base_uri": "https://localhost:8080/"
        },
        "id": "REZI6xWnKDvB",
        "outputId": "7e81b799-ead9-4573-bee1-082c652212d4"
      },
      "outputs": [],
      "source": [
        "\n",
        "\n",
        "# GitHub 저장소의 ZIP 파일 URL\n",
        "url = 'https://github.com/yumoxu/stocknet-dataset/archive/refs/heads/master.zip'\n",
        "\n",
        "# ZIP 파일을 다운로드하여 메모리로 읽기\n",
        "response = requests.get(url)\n",
        "zip_file = zipfile.ZipFile(BytesIO(response.content))\n",
        "\n",
        "# ZIP 파일 내의 'stocknet-dataset-master/price/raw/' 폴더 경로\n",
        "price_folder_path = 'stocknet-dataset-master/price/raw/'\n",
        "\n",
        "# 모든 CSV 파일을 읽고 결합\n",
        "data_frames = []\n",
        "for file_name in zip_file.namelist():\n",
        "    if file_name.startswith(price_folder_path) and file_name.endswith('.csv'):\n",
        "        # 주식 이름을 파일명에서 추출 (예: 'raw/prices/appl.csv' -> 'appl')\n",
        "        stock_name = os.path.splitext(os.path.basename(file_name))[0]\n",
        "\n",
        "        # CSV 파일을 읽어 데이터프레임으로 변환\n",
        "        with zip_file.open(file_name) as file:\n",
        "            df = pd.read_csv(file)\n",
        "            # 주식 이름 열 추가\n",
        "            df['Stock'] = stock_name\n",
        "            df['Date'] = pd.to_datetime(df['Date'])\n",
        "            # df.set_index('Date', inplace=True)\n",
        "            data_frames.append(df)\n",
        "\n",
        "# 모든 데이터프레임을 하나로 결합\n",
        "combined_df = pd.concat(data_frames, ignore_index=False)\n",
        "\n",
        "# 결합된 데이터프레임 확인\n",
        "print(combined_df.head())\n"
      ]
    },
    {
      "cell_type": "code",
      "execution_count": null,
      "metadata": {
        "id": "dkP-1_IIZPDI"
      },
      "outputs": [],
      "source": [
        "stocks = combined_df['Stock'].unique()\n",
        "for stock in stocks:\n",
        "  combined_df['Prev Adj'] = combined_df['Adj Close'].shift(1)\n",
        "  combined_df['movement'] = combined_df.apply(\n",
        "    lambda row: 1 if row['Adj Close'] > row['Prev Adj'] else 0,\n",
        "    axis = 1)\n",
        "  combined_df['Rate'] = combined_df['Adj Close'] / combined_df['Prev Adj']-1"
      ]
    },
    {
      "cell_type": "code",
      "execution_count": null,
      "metadata": {
        "colab": {
          "base_uri": "https://localhost:8080/"
        },
        "id": "12crmkcXfrao",
        "outputId": "a46230dc-7c37-4818-8895-de07786e9bf6"
      },
      "outputs": [],
      "source": [
        "len(combined_df)"
      ]
    },
    {
      "cell_type": "code",
      "execution_count": null,
      "metadata": {
        "colab": {
          "base_uri": "https://localhost:8080/"
        },
        "id": "6-kEsuHXhphT",
        "outputId": "c89705b4-14ba-4dc5-ebdb-6913e542e103"
      },
      "outputs": [],
      "source": [
        "cleaned = combined_df[~((combined_df['Rate'] > -0.0055) & (combined_df['Rate'] <= 0.005))]\n",
        "len(cleaned)"
      ]
    },
    {
      "cell_type": "code",
      "execution_count": null,
      "metadata": {
        "colab": {
          "base_uri": "https://localhost:8080/"
        },
        "id": "GFvLt5l-h1VY",
        "outputId": "8a191730-344f-4ea9-ea30-65ed68d51722"
      },
      "outputs": [],
      "source": [
        "filtered = cleaned[(cleaned['Date']>='2014-01-01') & (cleaned['Date']<='2016-01-01')]\n",
        "len(filtered)"
      ]
    },
    {
      "cell_type": "code",
      "execution_count": null,
      "metadata": {
        "colab": {
          "base_uri": "https://localhost:8080/"
        },
        "id": "pA6Ji2gSWGUn",
        "outputId": "bafa8d59-8b7b-4c51-f0d6-176100ad0ca2"
      },
      "outputs": [],
      "source": [
        "# 'Date' 열을 datetime으로 변환하고 인덱스로 설정\n",
        "filtered.drop(columns='Prev Adj', errors='ignore', inplace=True)\n",
        "scaler = StandardScaler()\n",
        "filtered[['Open', 'High', 'Low', 'Volume', 'Adj Close','Close']] = scaler.fit_transform(filtered[['Open', 'High', 'Low', 'Volume', 'Adj Close','Close']])"
      ]
    },
    {
      "cell_type": "code",
      "execution_count": null,
      "metadata": {
        "colab": {
          "base_uri": "https://localhost:8080/"
        },
        "id": "pbapUTNd0iaB",
        "outputId": "ae614143-979f-4297-e2d8-cfa62214e551"
      },
      "outputs": [],
      "source": [
        "len(filtered[filtered['movement']==1])"
      ]
    },
    {
      "cell_type": "code",
      "execution_count": null,
      "metadata": {},
      "outputs": [],
      "source": [
        "output_dir = r'C:\\Users\\dhjrz\\nlp\\ionlab'\n",
        "filtered.to_csv(os.path.join(output_dir, 'filtered_stock'), index=False)"
      ]
    },
    {
      "cell_type": "code",
      "execution_count": 90,
      "metadata": {},
      "outputs": [
        {
          "data": {
            "text/html": [
              "<div>\n",
              "<style scoped>\n",
              "    .dataframe tbody tr th:only-of-type {\n",
              "        vertical-align: middle;\n",
              "    }\n",
              "\n",
              "    .dataframe tbody tr th {\n",
              "        vertical-align: top;\n",
              "    }\n",
              "\n",
              "    .dataframe thead th {\n",
              "        text-align: right;\n",
              "    }\n",
              "</style>\n",
              "<table border=\"1\" class=\"dataframe\">\n",
              "  <thead>\n",
              "    <tr style=\"text-align: right;\">\n",
              "      <th></th>\n",
              "      <th>Date</th>\n",
              "      <th>Open</th>\n",
              "      <th>High</th>\n",
              "      <th>Low</th>\n",
              "      <th>Close</th>\n",
              "      <th>Adj Close</th>\n",
              "      <th>Volume</th>\n",
              "      <th>Stock</th>\n",
              "      <th>movement</th>\n",
              "      <th>Rate</th>\n",
              "    </tr>\n",
              "  </thead>\n",
              "  <tbody>\n",
              "    <tr>\n",
              "      <th>0</th>\n",
              "      <td>2014-01-02</td>\n",
              "      <td>-0.099005</td>\n",
              "      <td>-0.099042</td>\n",
              "      <td>-0.098989</td>\n",
              "      <td>-0.099026</td>\n",
              "      <td>-0.099058</td>\n",
              "      <td>2.716498</td>\n",
              "      <td>AAPL</td>\n",
              "      <td>0</td>\n",
              "      <td>-0.014064</td>\n",
              "    </tr>\n",
              "    <tr>\n",
              "      <th>1</th>\n",
              "      <td>2014-01-03</td>\n",
              "      <td>-0.099025</td>\n",
              "      <td>-0.099066</td>\n",
              "      <td>-0.099073</td>\n",
              "      <td>-0.099113</td>\n",
              "      <td>-0.099139</td>\n",
              "      <td>4.910293</td>\n",
              "      <td>AAPL</td>\n",
              "      <td>0</td>\n",
              "      <td>-0.021966</td>\n",
              "    </tr>\n",
              "    <tr>\n",
              "      <th>2</th>\n",
              "      <td>2014-01-06</td>\n",
              "      <td>-0.099136</td>\n",
              "      <td>-0.099115</td>\n",
              "      <td>-0.099122</td>\n",
              "      <td>-0.099092</td>\n",
              "      <td>-0.099119</td>\n",
              "      <td>5.190362</td>\n",
              "      <td>AAPL</td>\n",
              "      <td>1</td>\n",
              "      <td>0.005453</td>\n",
              "    </tr>\n",
              "    <tr>\n",
              "      <th>3</th>\n",
              "      <td>2014-01-07</td>\n",
              "      <td>-0.099087</td>\n",
              "      <td>-0.099121</td>\n",
              "      <td>-0.099091</td>\n",
              "      <td>-0.099120</td>\n",
              "      <td>-0.099145</td>\n",
              "      <td>3.863908</td>\n",
              "      <td>AAPL</td>\n",
              "      <td>0</td>\n",
              "      <td>-0.007151</td>\n",
              "    </tr>\n",
              "    <tr>\n",
              "      <th>4</th>\n",
              "      <td>2014-01-08</td>\n",
              "      <td>-0.099126</td>\n",
              "      <td>-0.099124</td>\n",
              "      <td>-0.099086</td>\n",
              "      <td>-0.099096</td>\n",
              "      <td>-0.099122</td>\n",
              "      <td>3.048033</td>\n",
              "      <td>AAPL</td>\n",
              "      <td>1</td>\n",
              "      <td>0.006333</td>\n",
              "    </tr>\n",
              "  </tbody>\n",
              "</table>\n",
              "</div>"
            ],
            "text/plain": [
              "         Date      Open      High       Low     Close  Adj Close    Volume  \\\n",
              "0  2014-01-02 -0.099005 -0.099042 -0.098989 -0.099026  -0.099058  2.716498   \n",
              "1  2014-01-03 -0.099025 -0.099066 -0.099073 -0.099113  -0.099139  4.910293   \n",
              "2  2014-01-06 -0.099136 -0.099115 -0.099122 -0.099092  -0.099119  5.190362   \n",
              "3  2014-01-07 -0.099087 -0.099121 -0.099091 -0.099120  -0.099145  3.863908   \n",
              "4  2014-01-08 -0.099126 -0.099124 -0.099086 -0.099096  -0.099122  3.048033   \n",
              "\n",
              "  Stock  movement      Rate  \n",
              "0  AAPL         0 -0.014064  \n",
              "1  AAPL         0 -0.021966  \n",
              "2  AAPL         1  0.005453  \n",
              "3  AAPL         0 -0.007151  \n",
              "4  AAPL         1  0.006333  "
            ]
          },
          "execution_count": 90,
          "metadata": {},
          "output_type": "execute_result"
        }
      ],
      "source": [
        "filtered = pd.read_csv(r'C:\\Users\\dhjrz\\nlp\\ionlab\\filtered_stock')\n",
        "filtered.head()"
      ]
    },
    {
      "cell_type": "code",
      "execution_count": 91,
      "metadata": {},
      "outputs": [
        {
          "name": "stdout",
          "output_type": "stream",
          "text": [
            "Ticker: AAPL, Merged Columns: ['Date', 'Open', 'High', 'Low', 'Close', 'Adj Close', 'Volume', 'Stock', 'movement', 'Rate', 'date', 'filename', 'cleaned_tweet', 'label', 'positive', 'negative', 'neutral', 'sentiment_score']\n",
            "Ticker: ABBV, Merged Columns: ['Date', 'Open', 'High', 'Low', 'Close', 'Adj Close', 'Volume', 'Stock', 'movement', 'Rate', 'date', 'filename', 'cleaned_tweet', 'label', 'positive', 'negative', 'neutral', 'sentiment_score']\n",
            "Ticker: ABB, Merged Columns: ['Date', 'Open', 'High', 'Low', 'Close', 'Adj Close', 'Volume', 'Stock', 'movement', 'Rate', 'date', 'filename', 'cleaned_tweet', 'label', 'positive', 'negative', 'neutral', 'sentiment_score']\n",
            "Ticker: AEP, Merged Columns: ['Date', 'Open', 'High', 'Low', 'Close', 'Adj Close', 'Volume', 'Stock', 'movement', 'Rate', 'date', 'filename', 'cleaned_tweet', 'label', 'positive', 'negative', 'neutral', 'sentiment_score']\n",
            "Ticker: AGFS, Merged Columns: ['Date', 'Open', 'High', 'Low', 'Close', 'Adj Close', 'Volume', 'Stock', 'movement', 'Rate', 'date', 'filename', 'cleaned_tweet', 'label', 'positive', 'negative', 'neutral', 'sentiment_score']\n",
            "Ticker: AMGN, Merged Columns: ['Date', 'Open', 'High', 'Low', 'Close', 'Adj Close', 'Volume', 'Stock', 'movement', 'Rate', 'date', 'filename', 'cleaned_tweet', 'label', 'positive', 'negative', 'neutral', 'sentiment_score']\n",
            "Ticker: AMZN, Merged Columns: ['Date', 'Open', 'High', 'Low', 'Close', 'Adj Close', 'Volume', 'Stock', 'movement', 'Rate', 'date', 'filename', 'cleaned_tweet', 'label', 'positive', 'negative', 'neutral', 'sentiment_score']\n",
            "Ticker: BABA, Merged Columns: ['Date', 'Open', 'High', 'Low', 'Close', 'Adj Close', 'Volume', 'Stock', 'movement', 'Rate', 'date', 'filename', 'cleaned_tweet', 'label', 'positive', 'negative', 'neutral', 'sentiment_score']\n",
            "Ticker: BAC, Merged Columns: ['Date', 'Open', 'High', 'Low', 'Close', 'Adj Close', 'Volume', 'Stock', 'movement', 'Rate', 'date', 'filename', 'cleaned_tweet', 'label', 'positive', 'negative', 'neutral', 'sentiment_score']\n",
            "Ticker: BA, Merged Columns: ['Date', 'Open', 'High', 'Low', 'Close', 'Adj Close', 'Volume', 'Stock', 'movement', 'Rate', 'date', 'filename', 'cleaned_tweet', 'label', 'positive', 'negative', 'neutral', 'sentiment_score']\n",
            "Ticker: BBL, Merged Columns: ['Date', 'Open', 'High', 'Low', 'Close', 'Adj Close', 'Volume', 'Stock', 'movement', 'Rate', 'date', 'filename', 'cleaned_tweet', 'label', 'positive', 'negative', 'neutral', 'sentiment_score']\n",
            "Ticker: BCH, Merged Columns: ['Date', 'Open', 'High', 'Low', 'Close', 'Adj Close', 'Volume', 'Stock', 'movement', 'Rate', 'date', 'filename', 'cleaned_tweet', 'label', 'positive', 'negative', 'neutral', 'sentiment_score']\n",
            "Ticker: BHP, Merged Columns: ['Date', 'Open', 'High', 'Low', 'Close', 'Adj Close', 'Volume', 'Stock', 'movement', 'Rate', 'date', 'filename', 'cleaned_tweet', 'label', 'positive', 'negative', 'neutral', 'sentiment_score']\n",
            "Ticker: BP, Merged Columns: ['Date', 'Open', 'High', 'Low', 'Close', 'Adj Close', 'Volume', 'Stock', 'movement', 'Rate', 'date', 'filename', 'cleaned_tweet', 'label', 'positive', 'negative', 'neutral', 'sentiment_score']\n",
            "Ticker: BRK-A, Merged Columns: ['Date', 'Open', 'High', 'Low', 'Close', 'Adj Close', 'Volume', 'Stock', 'movement', 'Rate', 'date', 'filename', 'cleaned_tweet', 'label', 'positive', 'negative', 'neutral', 'sentiment_score']\n",
            "Ticker: BSAC, Merged Columns: ['Date', 'Open', 'High', 'Low', 'Close', 'Adj Close', 'Volume', 'Stock', 'movement', 'Rate', 'date', 'filename', 'cleaned_tweet', 'label', 'positive', 'negative', 'neutral', 'sentiment_score']\n",
            "Ticker: BUD, Merged Columns: ['Date', 'Open', 'High', 'Low', 'Close', 'Adj Close', 'Volume', 'Stock', 'movement', 'Rate', 'date', 'filename', 'cleaned_tweet', 'label', 'positive', 'negative', 'neutral', 'sentiment_score']\n",
            "Ticker: CAT, Merged Columns: ['Date', 'Open', 'High', 'Low', 'Close', 'Adj Close', 'Volume', 'Stock', 'movement', 'Rate', 'date', 'filename', 'cleaned_tweet', 'label', 'positive', 'negative', 'neutral', 'sentiment_score']\n",
            "Ticker: CELG, Merged Columns: ['Date', 'Open', 'High', 'Low', 'Close', 'Adj Close', 'Volume', 'Stock', 'movement', 'Rate', 'date', 'filename', 'cleaned_tweet', 'label', 'positive', 'negative', 'neutral', 'sentiment_score']\n",
            "Ticker: CHL, Merged Columns: ['Date', 'Open', 'High', 'Low', 'Close', 'Adj Close', 'Volume', 'Stock', 'movement', 'Rate', 'date', 'filename', 'cleaned_tweet', 'label', 'positive', 'negative', 'neutral', 'sentiment_score']\n",
            "Ticker: CHTR, Merged Columns: ['Date', 'Open', 'High', 'Low', 'Close', 'Adj Close', 'Volume', 'Stock', 'movement', 'Rate', 'date', 'filename', 'cleaned_tweet', 'label', 'positive', 'negative', 'neutral', 'sentiment_score']\n",
            "Ticker: CMCSA, Merged Columns: ['Date', 'Open', 'High', 'Low', 'Close', 'Adj Close', 'Volume', 'Stock', 'movement', 'Rate', 'date', 'filename', 'cleaned_tweet', 'label', 'positive', 'negative', 'neutral', 'sentiment_score']\n",
            "Ticker: CODI, Merged Columns: ['Date', 'Open', 'High', 'Low', 'Close', 'Adj Close', 'Volume', 'Stock', 'movement', 'Rate', 'date', 'filename', 'cleaned_tweet', 'label', 'positive', 'negative', 'neutral', 'sentiment_score']\n",
            "Ticker: CSCO, Merged Columns: ['Date', 'Open', 'High', 'Low', 'Close', 'Adj Close', 'Volume', 'Stock', 'movement', 'Rate', 'date', 'filename', 'cleaned_tweet', 'label', 'positive', 'negative', 'neutral', 'sentiment_score']\n",
            "Ticker: CVX, Merged Columns: ['Date', 'Open', 'High', 'Low', 'Close', 'Adj Close', 'Volume', 'Stock', 'movement', 'Rate', 'date', 'filename', 'cleaned_tweet', 'label', 'positive', 'negative', 'neutral', 'sentiment_score']\n",
            "Ticker: C, Merged Columns: ['Date', 'Open', 'High', 'Low', 'Close', 'Adj Close', 'Volume', 'Stock', 'movement', 'Rate', 'date', 'filename', 'cleaned_tweet', 'label', 'positive', 'negative', 'neutral', 'sentiment_score']\n",
            "Ticker: DHR, Merged Columns: ['Date', 'Open', 'High', 'Low', 'Close', 'Adj Close', 'Volume', 'Stock', 'movement', 'Rate', 'date', 'filename', 'cleaned_tweet', 'label', 'positive', 'negative', 'neutral', 'sentiment_score']\n",
            "Ticker: DIS, Merged Columns: ['Date', 'Open', 'High', 'Low', 'Close', 'Adj Close', 'Volume', 'Stock', 'movement', 'Rate', 'date', 'filename', 'cleaned_tweet', 'label', 'positive', 'negative', 'neutral', 'sentiment_score']\n",
            "Ticker: DUK, Merged Columns: ['Date', 'Open', 'High', 'Low', 'Close', 'Adj Close', 'Volume', 'Stock', 'movement', 'Rate', 'date', 'filename', 'cleaned_tweet', 'label', 'positive', 'negative', 'neutral', 'sentiment_score']\n",
            "Ticker: D, Merged Columns: ['Date', 'Open', 'High', 'Low', 'Close', 'Adj Close', 'Volume', 'Stock', 'movement', 'Rate', 'date', 'filename', 'cleaned_tweet', 'label', 'positive', 'negative', 'neutral', 'sentiment_score']\n",
            "Ticker: EXC, Merged Columns: ['Date', 'Open', 'High', 'Low', 'Close', 'Adj Close', 'Volume', 'Stock', 'movement', 'Rate', 'date', 'filename', 'cleaned_tweet', 'label', 'positive', 'negative', 'neutral', 'sentiment_score']\n",
            "Ticker: FB, Merged Columns: ['Date', 'Open', 'High', 'Low', 'Close', 'Adj Close', 'Volume', 'Stock', 'movement', 'Rate', 'date', 'filename', 'cleaned_tweet', 'label', 'positive', 'negative', 'neutral', 'sentiment_score']\n",
            "Ticker: GD, Merged Columns: ['Date', 'Open', 'High', 'Low', 'Close', 'Adj Close', 'Volume', 'Stock', 'movement', 'Rate', 'date', 'filename', 'cleaned_tweet', 'label', 'positive', 'negative', 'neutral', 'sentiment_score']\n",
            "Ticker: GE, Merged Columns: ['Date', 'Open', 'High', 'Low', 'Close', 'Adj Close', 'Volume', 'Stock', 'movement', 'Rate', 'date', 'filename', 'cleaned_tweet', 'label', 'positive', 'negative', 'neutral', 'sentiment_score']\n",
            "Ticker: GOOG, Merged Columns: ['Date', 'Open', 'High', 'Low', 'Close', 'Adj Close', 'Volume', 'Stock', 'movement', 'Rate', 'date', 'filename', 'cleaned_tweet', 'label', 'positive', 'negative', 'neutral', 'sentiment_score']\n",
            "Ticker: HD, Merged Columns: ['Date', 'Open', 'High', 'Low', 'Close', 'Adj Close', 'Volume', 'Stock', 'movement', 'Rate', 'date', 'filename', 'cleaned_tweet', 'label', 'positive', 'negative', 'neutral', 'sentiment_score']\n",
            "Ticker: HON, Merged Columns: ['Date', 'Open', 'High', 'Low', 'Close', 'Adj Close', 'Volume', 'Stock', 'movement', 'Rate', 'date', 'filename', 'cleaned_tweet', 'label', 'positive', 'negative', 'neutral', 'sentiment_score']\n",
            "Ticker: HRG, Merged Columns: ['Date', 'Open', 'High', 'Low', 'Close', 'Adj Close', 'Volume', 'Stock', 'movement', 'Rate', 'date', 'filename', 'cleaned_tweet', 'label', 'positive', 'negative', 'neutral', 'sentiment_score']\n",
            "Ticker: HSBC, Merged Columns: ['Date', 'Open', 'High', 'Low', 'Close', 'Adj Close', 'Volume', 'Stock', 'movement', 'Rate', 'date', 'filename', 'cleaned_tweet', 'label', 'positive', 'negative', 'neutral', 'sentiment_score']\n",
            "Ticker: IEP, Merged Columns: ['Date', 'Open', 'High', 'Low', 'Close', 'Adj Close', 'Volume', 'Stock', 'movement', 'Rate', 'date', 'filename', 'cleaned_tweet', 'label', 'positive', 'negative', 'neutral', 'sentiment_score']\n",
            "Ticker: INTC, Merged Columns: ['Date', 'Open', 'High', 'Low', 'Close', 'Adj Close', 'Volume', 'Stock', 'movement', 'Rate', 'date', 'filename', 'cleaned_tweet', 'label', 'positive', 'negative', 'neutral', 'sentiment_score']\n",
            "Ticker: JNJ, Merged Columns: ['Date', 'Open', 'High', 'Low', 'Close', 'Adj Close', 'Volume', 'Stock', 'movement', 'Rate', 'date', 'filename', 'cleaned_tweet', 'label', 'positive', 'negative', 'neutral', 'sentiment_score']\n",
            "Ticker: JPM, Merged Columns: ['Date', 'Open', 'High', 'Low', 'Close', 'Adj Close', 'Volume', 'Stock', 'movement', 'Rate', 'date', 'filename', 'cleaned_tweet', 'label', 'positive', 'negative', 'neutral', 'sentiment_score']\n",
            "Ticker: KO, Merged Columns: ['Date', 'Open', 'High', 'Low', 'Close', 'Adj Close', 'Volume', 'Stock', 'movement', 'Rate', 'date', 'filename', 'cleaned_tweet', 'label', 'positive', 'negative', 'neutral', 'sentiment_score']\n",
            "Ticker: LMT, Merged Columns: ['Date', 'Open', 'High', 'Low', 'Close', 'Adj Close', 'Volume', 'Stock', 'movement', 'Rate', 'date', 'filename', 'cleaned_tweet', 'label', 'positive', 'negative', 'neutral', 'sentiment_score']\n",
            "Ticker: MA, Merged Columns: ['Date', 'Open', 'High', 'Low', 'Close', 'Adj Close', 'Volume', 'Stock', 'movement', 'Rate', 'date', 'filename', 'cleaned_tweet', 'label', 'positive', 'negative', 'neutral', 'sentiment_score']\n",
            "Ticker: MCD, Merged Columns: ['Date', 'Open', 'High', 'Low', 'Close', 'Adj Close', 'Volume', 'Stock', 'movement', 'Rate', 'date', 'filename', 'cleaned_tweet', 'label', 'positive', 'negative', 'neutral', 'sentiment_score']\n",
            "Ticker: MDT, Merged Columns: ['Date', 'Open', 'High', 'Low', 'Close', 'Adj Close', 'Volume', 'Stock', 'movement', 'Rate', 'date', 'filename', 'cleaned_tweet', 'label', 'positive', 'negative', 'neutral', 'sentiment_score']\n",
            "Ticker: MMM, Merged Columns: ['Date', 'Open', 'High', 'Low', 'Close', 'Adj Close', 'Volume', 'Stock', 'movement', 'Rate', 'date', 'filename', 'cleaned_tweet', 'label', 'positive', 'negative', 'neutral', 'sentiment_score']\n",
            "Ticker: MO, Merged Columns: ['Date', 'Open', 'High', 'Low', 'Close', 'Adj Close', 'Volume', 'Stock', 'movement', 'Rate', 'date', 'filename', 'cleaned_tweet', 'label', 'positive', 'negative', 'neutral', 'sentiment_score']\n",
            "Ticker: MRK, Merged Columns: ['Date', 'Open', 'High', 'Low', 'Close', 'Adj Close', 'Volume', 'Stock', 'movement', 'Rate', 'date', 'filename', 'cleaned_tweet', 'label', 'positive', 'negative', 'neutral', 'sentiment_score']\n",
            "Ticker: MSFT, Merged Columns: ['Date', 'Open', 'High', 'Low', 'Close', 'Adj Close', 'Volume', 'Stock', 'movement', 'Rate', 'date', 'filename', 'cleaned_tweet', 'label', 'positive', 'negative', 'neutral', 'sentiment_score']\n",
            "Ticker: NEE, Merged Columns: ['Date', 'Open', 'High', 'Low', 'Close', 'Adj Close', 'Volume', 'Stock', 'movement', 'Rate', 'date', 'filename', 'cleaned_tweet', 'label', 'positive', 'negative', 'neutral', 'sentiment_score']\n",
            "Ticker: NGG, Merged Columns: ['Date', 'Open', 'High', 'Low', 'Close', 'Adj Close', 'Volume', 'Stock', 'movement', 'Rate', 'date', 'filename', 'cleaned_tweet', 'label', 'positive', 'negative', 'neutral', 'sentiment_score']\n",
            "Ticker: NVS, Merged Columns: ['Date', 'Open', 'High', 'Low', 'Close', 'Adj Close', 'Volume', 'Stock', 'movement', 'Rate', 'date', 'filename', 'cleaned_tweet', 'label', 'positive', 'negative', 'neutral', 'sentiment_score']\n",
            "Ticker: ORCL, Merged Columns: ['Date', 'Open', 'High', 'Low', 'Close', 'Adj Close', 'Volume', 'Stock', 'movement', 'Rate', 'date', 'filename', 'cleaned_tweet', 'label', 'positive', 'negative', 'neutral', 'sentiment_score']\n",
            "Ticker: PCG, Merged Columns: ['Date', 'Open', 'High', 'Low', 'Close', 'Adj Close', 'Volume', 'Stock', 'movement', 'Rate', 'date', 'filename', 'cleaned_tweet', 'label', 'positive', 'negative', 'neutral', 'sentiment_score']\n",
            "Ticker: PCLN, Merged Columns: ['Date', 'Open', 'High', 'Low', 'Close', 'Adj Close', 'Volume', 'Stock', 'movement', 'Rate', 'date', 'filename', 'cleaned_tweet', 'label', 'positive', 'negative', 'neutral', 'sentiment_score']\n",
            "Ticker: PEP, Merged Columns: ['Date', 'Open', 'High', 'Low', 'Close', 'Adj Close', 'Volume', 'Stock', 'movement', 'Rate', 'date', 'filename', 'cleaned_tweet', 'label', 'positive', 'negative', 'neutral', 'sentiment_score']\n",
            "Ticker: PFE, Merged Columns: ['Date', 'Open', 'High', 'Low', 'Close', 'Adj Close', 'Volume', 'Stock', 'movement', 'Rate', 'date', 'filename', 'cleaned_tweet', 'label', 'positive', 'negative', 'neutral', 'sentiment_score']\n",
            "Ticker: PG, Merged Columns: ['Date', 'Open', 'High', 'Low', 'Close', 'Adj Close', 'Volume', 'Stock', 'movement', 'Rate', 'date', 'filename', 'cleaned_tweet', 'label', 'positive', 'negative', 'neutral', 'sentiment_score']\n",
            "Ticker: PICO, Merged Columns: ['Date', 'Open', 'High', 'Low', 'Close', 'Adj Close', 'Volume', 'Stock', 'movement', 'Rate', 'date', 'filename', 'cleaned_tweet', 'label', 'positive', 'negative', 'neutral', 'sentiment_score']\n",
            "Ticker: PM, Merged Columns: ['Date', 'Open', 'High', 'Low', 'Close', 'Adj Close', 'Volume', 'Stock', 'movement', 'Rate', 'date', 'filename', 'cleaned_tweet', 'label', 'positive', 'negative', 'neutral', 'sentiment_score']\n",
            "Ticker: PPL, Merged Columns: ['Date', 'Open', 'High', 'Low', 'Close', 'Adj Close', 'Volume', 'Stock', 'movement', 'Rate', 'date', 'filename', 'cleaned_tweet', 'label', 'positive', 'negative', 'neutral', 'sentiment_score']\n",
            "Ticker: PTR, Merged Columns: ['Date', 'Open', 'High', 'Low', 'Close', 'Adj Close', 'Volume', 'Stock', 'movement', 'Rate', 'date', 'filename', 'cleaned_tweet', 'label', 'positive', 'negative', 'neutral', 'sentiment_score']\n",
            "Ticker: RDS-B, Merged Columns: ['Date', 'Open', 'High', 'Low', 'Close', 'Adj Close', 'Volume', 'Stock', 'movement', 'Rate', 'date', 'filename', 'cleaned_tweet', 'label', 'positive', 'negative', 'neutral', 'sentiment_score']\n",
            "Ticker: REX, Merged Columns: ['Date', 'Open', 'High', 'Low', 'Close', 'Adj Close', 'Volume', 'Stock', 'movement', 'Rate', 'date', 'filename', 'cleaned_tweet', 'label', 'positive', 'negative', 'neutral', 'sentiment_score']\n",
            "Ticker: SLB, Merged Columns: ['Date', 'Open', 'High', 'Low', 'Close', 'Adj Close', 'Volume', 'Stock', 'movement', 'Rate', 'date', 'filename', 'cleaned_tweet', 'label', 'positive', 'negative', 'neutral', 'sentiment_score']\n",
            "Ticker: SNP, Merged Columns: ['Date', 'Open', 'High', 'Low', 'Close', 'Adj Close', 'Volume', 'Stock', 'movement', 'Rate', 'date', 'filename', 'cleaned_tweet', 'label', 'positive', 'negative', 'neutral', 'sentiment_score']\n",
            "Ticker: SNY, Merged Columns: ['Date', 'Open', 'High', 'Low', 'Close', 'Adj Close', 'Volume', 'Stock', 'movement', 'Rate', 'date', 'filename', 'cleaned_tweet', 'label', 'positive', 'negative', 'neutral', 'sentiment_score']\n",
            "Ticker: SO, Merged Columns: ['Date', 'Open', 'High', 'Low', 'Close', 'Adj Close', 'Volume', 'Stock', 'movement', 'Rate', 'date', 'filename', 'cleaned_tweet', 'label', 'positive', 'negative', 'neutral', 'sentiment_score']\n",
            "Ticker: SPLP, Merged Columns: ['Date', 'Open', 'High', 'Low', 'Close', 'Adj Close', 'Volume', 'Stock', 'movement', 'Rate', 'date', 'filename', 'cleaned_tweet', 'label', 'positive', 'negative', 'neutral', 'sentiment_score']\n",
            "Ticker: SRE, Merged Columns: ['Date', 'Open', 'High', 'Low', 'Close', 'Adj Close', 'Volume', 'Stock', 'movement', 'Rate', 'date', 'filename', 'cleaned_tweet', 'label', 'positive', 'negative', 'neutral', 'sentiment_score']\n",
            "Ticker: TM, Merged Columns: ['Date', 'Open', 'High', 'Low', 'Close', 'Adj Close', 'Volume', 'Stock', 'movement', 'Rate', 'date', 'filename', 'cleaned_tweet', 'label', 'positive', 'negative', 'neutral', 'sentiment_score']\n",
            "Ticker: TOT, Merged Columns: ['Date', 'Open', 'High', 'Low', 'Close', 'Adj Close', 'Volume', 'Stock', 'movement', 'Rate', 'date', 'filename', 'cleaned_tweet', 'label', 'positive', 'negative', 'neutral', 'sentiment_score']\n",
            "Ticker: TSM, Merged Columns: ['Date', 'Open', 'High', 'Low', 'Close', 'Adj Close', 'Volume', 'Stock', 'movement', 'Rate', 'date', 'filename', 'cleaned_tweet', 'label', 'positive', 'negative', 'neutral', 'sentiment_score']\n",
            "Ticker: T, Merged Columns: ['Date', 'Open', 'High', 'Low', 'Close', 'Adj Close', 'Volume', 'Stock', 'movement', 'Rate', 'date', 'filename', 'cleaned_tweet', 'label', 'positive', 'negative', 'neutral', 'sentiment_score']\n",
            "Ticker: UL, Merged Columns: ['Date', 'Open', 'High', 'Low', 'Close', 'Adj Close', 'Volume', 'Stock', 'movement', 'Rate', 'date', 'filename', 'cleaned_tweet', 'label', 'positive', 'negative', 'neutral', 'sentiment_score']\n",
            "Ticker: UNH, Merged Columns: ['Date', 'Open', 'High', 'Low', 'Close', 'Adj Close', 'Volume', 'Stock', 'movement', 'Rate', 'date', 'filename', 'cleaned_tweet', 'label', 'positive', 'negative', 'neutral', 'sentiment_score']\n",
            "Ticker: UN, Merged Columns: ['Date', 'Open', 'High', 'Low', 'Close', 'Adj Close', 'Volume', 'Stock', 'movement', 'Rate', 'date', 'filename', 'cleaned_tweet', 'label', 'positive', 'negative', 'neutral', 'sentiment_score']\n",
            "Ticker: UPS, Merged Columns: ['Date', 'Open', 'High', 'Low', 'Close', 'Adj Close', 'Volume', 'Stock', 'movement', 'Rate', 'date', 'filename', 'cleaned_tweet', 'label', 'positive', 'negative', 'neutral', 'sentiment_score']\n",
            "Ticker: UTX, Merged Columns: ['Date', 'Open', 'High', 'Low', 'Close', 'Adj Close', 'Volume', 'Stock', 'movement', 'Rate', 'date', 'filename', 'cleaned_tweet', 'label', 'positive', 'negative', 'neutral', 'sentiment_score']\n",
            "Ticker: VZ, Merged Columns: ['Date', 'Open', 'High', 'Low', 'Close', 'Adj Close', 'Volume', 'Stock', 'movement', 'Rate', 'date', 'filename', 'cleaned_tweet', 'label', 'positive', 'negative', 'neutral', 'sentiment_score']\n",
            "Ticker: V, Merged Columns: ['Date', 'Open', 'High', 'Low', 'Close', 'Adj Close', 'Volume', 'Stock', 'movement', 'Rate', 'date', 'filename', 'cleaned_tweet', 'label', 'positive', 'negative', 'neutral', 'sentiment_score']\n",
            "Ticker: WFC, Merged Columns: ['Date', 'Open', 'High', 'Low', 'Close', 'Adj Close', 'Volume', 'Stock', 'movement', 'Rate', 'date', 'filename', 'cleaned_tweet', 'label', 'positive', 'negative', 'neutral', 'sentiment_score']\n",
            "Ticker: WMT, Merged Columns: ['Date', 'Open', 'High', 'Low', 'Close', 'Adj Close', 'Volume', 'Stock', 'movement', 'Rate', 'date', 'filename', 'cleaned_tweet', 'label', 'positive', 'negative', 'neutral', 'sentiment_score']\n",
            "Ticker: XOM, Merged Columns: ['Date', 'Open', 'High', 'Low', 'Close', 'Adj Close', 'Volume', 'Stock', 'movement', 'Rate', 'date', 'filename', 'cleaned_tweet', 'label', 'positive', 'negative', 'neutral', 'sentiment_score']\n",
            "         Date      Open      High       Low     Close  Adj Close    Volume  \\\n",
            "0  2014-01-02 -0.099005 -0.099042 -0.098989 -0.099026  -0.099058  2.716498   \n",
            "1  2014-01-03 -0.099025 -0.099066 -0.099073 -0.099113  -0.099139  4.910293   \n",
            "2  2014-01-06 -0.099136 -0.099115 -0.099122 -0.099092  -0.099119  5.190362   \n",
            "3  2014-01-07 -0.099087 -0.099121 -0.099091 -0.099120  -0.099145  3.863908   \n",
            "4  2014-01-08 -0.099126 -0.099124 -0.099086 -0.099096  -0.099122  3.048033   \n",
            "\n",
            "  Stock  movement      Rate       date   filename  \\\n",
            "0  AAPL         0 -0.014064 2014-01-02 2014-01-02   \n",
            "1  AAPL         0 -0.021966 2014-01-03 2014-01-03   \n",
            "2  AAPL         1  0.005453 2014-01-06 2014-01-06   \n",
            "3  AAPL         0 -0.007151 2014-01-07 2014-01-07   \n",
            "4  AAPL         1  0.006333 2014-01-08 2014-01-08   \n",
            "\n",
            "                                       cleaned_tweet     label  positive  \\\n",
            "0  ['aapl', 'blackberry', 'singer', 'alicia', 'ke...  Positive  0.657078   \n",
            "1  ['AT_USER', 'also', 'added', 'aapl', 'common',...   Neutral  0.023071   \n",
            "2  ['aapl', 'filled', 'overnight', 'gap', ',', 'a...   Neutral  0.013610   \n",
            "3  ['wanna', 'sell', 'china', ',', 'better', 'use...   Neutral  0.015626   \n",
            "4  ['aapl', 'apple', '’', 'iphone', 'gets', 'chea...   Neutral  0.007033   \n",
            "\n",
            "   negative   neutral  sentiment_score  \n",
            "0  0.000154  0.342768         0.656924  \n",
            "1  0.000051  0.976878         0.023020  \n",
            "2  0.000067  0.986324         0.013543  \n",
            "3  0.000370  0.984004         0.015257  \n",
            "4  0.000042  0.992925         0.006991  \n"
          ]
        }
      ],
      "source": [
        "import os\n",
        "import pandas as pd\n",
        "\n",
        "# 감정 분석 데이터가 위치한 디렉토리\n",
        "sentiment_data_dir = r\"C:\\Users\\dhjrz\\nlp\\ionlab\\sentiment\"\n",
        "\n",
        "# 주가 데이터를 한 번만 불러오기 (예시 데이터 사용)\n",
        "stock_data = filtered.copy()\n",
        "stock_data['date'] = pd.to_datetime(stock_data['Date'])\n",
        "\n",
        "# 감정 분석 데이터 파일명 목록 (기업별로 존재한다고 가정)\n",
        "sentiment_files = os.listdir(sentiment_data_dir)\n",
        "\n",
        "# 감정 분석 데이터를 담을 빈 데이터프레임 생성\n",
        "combined_sentiment_data = pd.DataFrame()\n",
        "\n",
        "# 반복적으로 감정 분석 데이터와 주가 데이터 병합\n",
        "for sentiment_file in sentiment_files:\n",
        "    # 감정 분석 파일 경로 생성\n",
        "    sentiment_file_path = os.path.join(sentiment_data_dir, sentiment_file)\n",
        "    \n",
        "    # 감정 분석 데이터 불러오기\n",
        "    sentiment_data = pd.read_csv(sentiment_file_path)\n",
        "    sentiment_data['filename'] = pd.to_datetime(sentiment_data['filename'])\n",
        "    \n",
        "    # 파일명에서 티커 추출 (예: \"AAPL_sentiment.csv\"에서 \"AAPL\")\n",
        "    ticker = sentiment_file.split('_')[0]\n",
        "    \n",
        "    # 해당 티커의 주가 데이터 필터링\n",
        "    stock_data_ticker = stock_data[stock_data['Stock'] == ticker]\n",
        "    \n",
        "    # 주가 데이터를 기준으로 감정 분석 데이터 병합\n",
        "    merged_data = pd.merge(stock_data_ticker, sentiment_data, left_on='date', right_on='filename', how='left')\n",
        "    \n",
        "    # 병합 후 데이터 확인\n",
        "    print(f\"Ticker: {ticker}, Merged Columns: {merged_data.columns.tolist()}\")\n",
        "    \n",
        "    # 병합된 데이터를 추가\n",
        "    combined_sentiment_data = pd.concat([combined_sentiment_data, merged_data], ignore_index=True)\n",
        "\n",
        "# 병합 후 데이터프레임에 없는 감정 점수 열 기본값으로 채우기\n",
        "combined_sentiment_data[['cleaned_tweet', 'label', 'positive', 'negative', 'neutral', 'sentiment_score']] = combined_sentiment_data[['cleaned_tweet', 'label', 'positive', 'negative', 'neutral', 'sentiment_score']].fillna({\n",
        "    'cleaned_tweet': '', 'label': '', 'positive': 0.33333, 'negative': 0.33333, 'neutral': 0.33333, 'sentiment_score': 0\n",
        "})\n",
        "\n",
        "# 최종 결과 데이터프레임 출력 (또는 필요에 따라 저장)\n",
        "print(combined_sentiment_data.head())\n"
      ]
    },
    {
      "cell_type": "code",
      "execution_count": null,
      "metadata": {
        "id": "8gV5Guz44kNg"
      },
      "outputs": [],
      "source": []
    }
  ],
  "metadata": {
    "colab": {
      "provenance": []
    },
    "kernelspec": {
      "display_name": "NLP",
      "language": "python",
      "name": "nlp"
    },
    "language_info": {
      "codemirror_mode": {
        "name": "ipython",
        "version": 3
      },
      "file_extension": ".py",
      "mimetype": "text/x-python",
      "name": "python",
      "nbconvert_exporter": "python",
      "pygments_lexer": "ipython3",
      "version": "3.9.19"
    }
  },
  "nbformat": 4,
  "nbformat_minor": 0
}
